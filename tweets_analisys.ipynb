{
 "cells": [
  {
   "cell_type": "code",
   "execution_count": 6,
   "metadata": {},
   "outputs": [],
   "source": [
    "import tweepy\n",
    "import pandas as pd\n",
    "import numpy as np"
   ]
  },
  {
   "cell_type": "code",
   "execution_count": 7,
   "metadata": {},
   "outputs": [
    {
     "data": {
      "text/html": [
       "<div>\n",
       "<style scoped>\n",
       "    .dataframe tbody tr th:only-of-type {\n",
       "        vertical-align: middle;\n",
       "    }\n",
       "\n",
       "    .dataframe tbody tr th {\n",
       "        vertical-align: top;\n",
       "    }\n",
       "\n",
       "    .dataframe thead th {\n",
       "        text-align: right;\n",
       "    }\n",
       "</style>\n",
       "<table border=\"1\" class=\"dataframe\">\n",
       "  <thead>\n",
       "    <tr style=\"text-align: right;\">\n",
       "      <th></th>\n",
       "      <th>2019-05-08 19:21:47</th>\n",
       "      <th>b'RT @ConnectedWMag: #Factoftheday @Frost_Sullivan says connected, shared, electric, and autonomous technologies will dominate industry innov\\xe2\\x80\\xa6'</th>\n",
       "    </tr>\n",
       "  </thead>\n",
       "  <tbody>\n",
       "    <tr>\n",
       "      <th>0</th>\n",
       "      <td>2019-05-08 19:21:39</td>\n",
       "      <td>b'RT @BardishKW: .@perimeter\\xe2\\x80\\x99s Anna...</td>\n",
       "    </tr>\n",
       "    <tr>\n",
       "      <th>1</th>\n",
       "      <td>2019-05-08 19:20:44</td>\n",
       "      <td>b'RT @kiranshaw: Scientists have developed an ...</td>\n",
       "    </tr>\n",
       "    <tr>\n",
       "      <th>2</th>\n",
       "      <td>2019-05-08 19:20:37</td>\n",
       "      <td>b'RT @LordGuthrie: One of the best questions a...</td>\n",
       "    </tr>\n",
       "    <tr>\n",
       "      <th>3</th>\n",
       "      <td>2019-05-08 19:20:27</td>\n",
       "      <td>b'RT @Ronald_vanLoon: Hasso Plattner kicks off...</td>\n",
       "    </tr>\n",
       "    <tr>\n",
       "      <th>4</th>\n",
       "      <td>2019-05-08 19:20:24</td>\n",
       "      <td>b'RT @ccmconsultancy: Our Managing Partner, @e...</td>\n",
       "    </tr>\n",
       "  </tbody>\n",
       "</table>\n",
       "</div>"
      ],
      "text/plain": [
       "   2019-05-08 19:21:47  \\\n",
       "0  2019-05-08 19:21:39   \n",
       "1  2019-05-08 19:20:44   \n",
       "2  2019-05-08 19:20:37   \n",
       "3  2019-05-08 19:20:27   \n",
       "4  2019-05-08 19:20:24   \n",
       "\n",
       "  b'RT @ConnectedWMag: #Factoftheday @Frost_Sullivan says connected, shared, electric, and autonomous technologies will dominate industry innov\\xe2\\x80\\xa6'  \n",
       "0  b'RT @BardishKW: .@perimeter\\xe2\\x80\\x99s Anna...                                                                                                          \n",
       "1  b'RT @kiranshaw: Scientists have developed an ...                                                                                                          \n",
       "2  b'RT @LordGuthrie: One of the best questions a...                                                                                                          \n",
       "3  b'RT @Ronald_vanLoon: Hasso Plattner kicks off...                                                                                                          \n",
       "4  b'RT @ccmconsultancy: Our Managing Partner, @e...                                                                                                          "
      ]
     },
     "execution_count": 7,
     "metadata": {},
     "output_type": "execute_result"
    }
   ],
   "source": [
    "twitter_db = pd.read_csv('twitter_data.csv', delimiter=',')\n",
    "twitter_db.head()"
   ]
  },
  {
   "cell_type": "code",
   "execution_count": 8,
   "metadata": {},
   "outputs": [
    {
     "data": {
      "text/html": [
       "<div>\n",
       "<style scoped>\n",
       "    .dataframe tbody tr th:only-of-type {\n",
       "        vertical-align: middle;\n",
       "    }\n",
       "\n",
       "    .dataframe tbody tr th {\n",
       "        vertical-align: top;\n",
       "    }\n",
       "\n",
       "    .dataframe thead th {\n",
       "        text-align: right;\n",
       "    }\n",
       "</style>\n",
       "<table border=\"1\" class=\"dataframe\">\n",
       "  <thead>\n",
       "    <tr style=\"text-align: right;\">\n",
       "      <th></th>\n",
       "      <th>Date</th>\n",
       "      <th>text</th>\n",
       "    </tr>\n",
       "  </thead>\n",
       "  <tbody>\n",
       "    <tr>\n",
       "      <th>0</th>\n",
       "      <td>2019-05-08 19:21:39</td>\n",
       "      <td>b'RT @BardishKW: .@perimeter\\xe2\\x80\\x99s Anna...</td>\n",
       "    </tr>\n",
       "    <tr>\n",
       "      <th>1</th>\n",
       "      <td>2019-05-08 19:20:44</td>\n",
       "      <td>b'RT @kiranshaw: Scientists have developed an ...</td>\n",
       "    </tr>\n",
       "    <tr>\n",
       "      <th>2</th>\n",
       "      <td>2019-05-08 19:20:37</td>\n",
       "      <td>b'RT @LordGuthrie: One of the best questions a...</td>\n",
       "    </tr>\n",
       "    <tr>\n",
       "      <th>3</th>\n",
       "      <td>2019-05-08 19:20:27</td>\n",
       "      <td>b'RT @Ronald_vanLoon: Hasso Plattner kicks off...</td>\n",
       "    </tr>\n",
       "    <tr>\n",
       "      <th>4</th>\n",
       "      <td>2019-05-08 19:20:24</td>\n",
       "      <td>b'RT @ccmconsultancy: Our Managing Partner, @e...</td>\n",
       "    </tr>\n",
       "  </tbody>\n",
       "</table>\n",
       "</div>"
      ],
      "text/plain": [
       "                  Date                                               text\n",
       "0  2019-05-08 19:21:39  b'RT @BardishKW: .@perimeter\\xe2\\x80\\x99s Anna...\n",
       "1  2019-05-08 19:20:44  b'RT @kiranshaw: Scientists have developed an ...\n",
       "2  2019-05-08 19:20:37  b'RT @LordGuthrie: One of the best questions a...\n",
       "3  2019-05-08 19:20:27  b'RT @Ronald_vanLoon: Hasso Plattner kicks off...\n",
       "4  2019-05-08 19:20:24  b'RT @ccmconsultancy: Our Managing Partner, @e..."
      ]
     },
     "execution_count": 8,
     "metadata": {},
     "output_type": "execute_result"
    }
   ],
   "source": [
    "twitter_db.columns = ['Date', 'text']\n",
    "twitter_db.to_csv('test.csv')\n",
    "twitter_db.head()"
   ]
  },
  {
   "cell_type": "code",
   "execution_count": 9,
   "metadata": {},
   "outputs": [
    {
     "data": {
      "text/plain": [
       "[\"b'RT @BardishKW: .@perimeter\\\\xe2\\\\x80\\\\x99s Anna Golubeva was awarded the prestigious @nserc_crsng Gilles Brassard Doctoral Prize for Interdisciplinary Re\\\\xe2\\\\x80\\\\xa6'\",\n",
       " \"b'RT @kiranshaw: Scientists have developed an #ArtificialIntelligence system that can detect signs of anxiety and depression in the speech pa\\\\xe2\\\\x80\\\\xa6'\",\n",
       " \"b'RT @LordGuthrie: One of the best questions asked today at @CIO_CAN AI event was there is a lot of research done with AI in Alberta, however\\\\xe2\\\\x80\\\\xa6'\"]"
      ]
     },
     "execution_count": 9,
     "metadata": {},
     "output_type": "execute_result"
    }
   ],
   "source": [
    "text = twitter_db['text'].tolist()\n",
    "text[0:3]"
   ]
  },
  {
   "cell_type": "code",
   "execution_count": 11,
   "metadata": {},
   "outputs": [
    {
     "data": {
      "text/plain": [
       "\" .@perimeter\\\\xe2\\\\x80\\\\x99s Anna Golubeva was awarded the prestigious @nserc_crsng Gilles Brassard Doctoral Prize for Interdisciplinary Re\\\\xe2\\\\x80\\\\xa6'\""
      ]
     },
     "execution_count": 11,
     "metadata": {},
     "output_type": "execute_result"
    }
   ],
   "source": [
    "text = [elem.split(':')[1] for elem in text if ':' in elem]\n",
    "text[0]"
   ]
  },
  {
   "cell_type": "code",
   "execution_count": 12,
   "metadata": {},
   "outputs": [],
   "source": [
    "import random\n",
    "from textblob import TextBlob\n",
    "\n",
    "SEED=42\n",
    "random.seed(SEED)"
   ]
  },
  {
   "cell_type": "code",
   "execution_count": 13,
   "metadata": {},
   "outputs": [],
   "source": [
    "sample = random.sample(text, 30)"
   ]
  },
  {
   "cell_type": "code",
   "execution_count": 14,
   "metadata": {},
   "outputs": [
    {
     "name": "stdout",
     "output_type": "stream",
     "text": [
      " That's what I am talking about in one of my quotes about Industrial IoT published at Freedom (Cincinnati, Ohio, USA) \\xe2\\x98\\x9d\\xf0\\x9f\\x8f\\xbb\\xf0\\x9f\\x87\\xba\\xf0\\x9f\\x87\\xb8htt\\xe2\\x80\\xa6\"\n",
      "SENTIMENT: 0.0\n",
      "//t.co/kLZZ6teGjf'\n",
      "SENTIMENT: 0.0\n",
      " Meet Walker, the #smart companion in the future\\nby @mashable |\\n\\n#AI #ArtificialIntelligence #Robotics #MachineLearning\\xe2\\x80\\xa6'\n",
      "SENTIMENT: 0.21428571428571427\n",
      " The Rise of Robotics and AI \\n\\n#AI #infographic #tech #MachineLearning #BigData #IoT #VR #DataScience #blockchain #Arti\\xe2\\x80\\xa6'\n",
      "SENTIMENT: 0.0\n",
      " The #Autonomous Tidying up #Robot |\\n\\n#InternetOfThings #IoT #Robotics #Automation #IIoT #IndustrialInternetOfThings #Di\\xe2\\x80\\xa6'\n",
      "SENTIMENT: 0.4\n",
      " This #Robot Is Teaching Itself To Handle Anything\\n by @Seeker |\\n \\n #ArtificialIntelligence #AI #Robotics #SmartTech #Io\\xe2\\x80\\xa6'\n",
      "SENTIMENT: 0.0\n",
      " How #Fintech and Key Industries are Impacted by #ArtificialIntelligence https\n",
      "SENTIMENT: 0.0\n",
      "//t.co/BA6uxdiabJ  - Why not apply for A\\xe2\\x80\\xa6 https\n",
      "SENTIMENT: 0.0\n",
      "//t.co/MVLDbGbDnZ'\n",
      "SENTIMENT: 0.0\n",
      " IoT, Machine Learning and Big Data | @ExpoDX #BigData #IoT #IIoT #SmartCities #MachineLearning #ArtificialIntelligence htt\\xe2\\x80\\xa6'\n",
      "SENTIMENT: 0.0\n",
      " The Modern #DataScientist [#INFOGRAPHICS] \\n by @kzawadz @Tableteer | \\n\\nRead more at https\n",
      "SENTIMENT: 0.35\n",
      " 1000's of simulated neurons in this #AI-chip, functions like a #human brain \\n #ArtificialIntelligence #MachineLearning #\\xe2\\x80\\xa6\"\n",
      "SENTIMENT: 0.0\n",
      " RT Ronald_vanLoon \"Top 10 #Technology Trends for 2019\\nby trendforce\\n\\n#IndustrialIoT #Telecom #ArtificialIntelligence #Heal\\xe2\\x80\\xa6'\n",
      "SENTIMENT: 0.5\n",
      " This chat bubble removes the language barrier in foreign countries.\\nby @CNBC|\\n\\n#ArtificialIntelligence #AI #IoT #Interne\\xe2\\x80\\xa6'\n",
      "SENTIMENT: -0.125\n",
      "//t.co/aJvBbJDuya ] #AI #AiJobs\\xe2\\x80\\xa6 https\n",
      "SENTIMENT: 0.0\n",
      " Proactive Website Interactions coupled with 360degree transactional footprints of the prospects can help firms signific\\xe2\\x80\\xa6'\n",
      "SENTIMENT: 0.0\n",
      " How to Spot \\n\\nan #AI-Generated #Photo \\n\\nhttps\n",
      "SENTIMENT: 0.0\n",
      "//t.co/qjT2RBKjNR'\n",
      "SENTIMENT: 0.0\n",
      "//t.co/Cim2qWPMEo #analytics,\\xe2\\x80\\xa6 https\n",
      "SENTIMENT: 0.0\n",
      " Troubleshooting Java Performance \n",
      "SENTIMENT: 0.0\n",
      " Four Rules To Guide Expectations Of Artificial Intelligence - Forbes\\n\\nRead more here\n",
      "SENTIMENT: -0.04999999999999999\n",
      " Episode 86 of #VoicesinAI features @byronreese speaking with fellow author Amir Husain, Founder &amp; CEO @SparkCognition &amp; @Sk\\xe2\\x80\\xa6'\n",
      "SENTIMENT: 0.0\n",
      " Denmark has one database for all the private data of its citizen\\nby @wef |\\n\\n#CyberSecurity #BigData #Analytics #InfoSec\\xe2\\x80\\xa6'\n",
      "SENTIMENT: 0.0\n",
      " As Artificial Intelligence Moves Into Medicine, The Human Touch Could Be A Casualty (article + audio)\\n#AI #ArtificialInte\\xe2\\x80\\xa6'\n",
      "SENTIMENT: -0.3\n",
      " How AI Could Change The Art Of War https\n",
      "SENTIMENT: 0.0\n",
      "//t.co/KSw4GySDNL\\n\\n#artificialintelligence #5G #opendata #IoT'\n",
      "SENTIMENT: 0.0\n",
      " With #machinelearning, a #hospital\\xe2\\x80\\x99s intelligence is no longer simply artificial, but real and widely available too.\\nhttps\n",
      "SENTIMENT: 1.850371707708594e-17\n",
      " How artificial intelligence, analytics and automation are reshaping the hospital revenue cycle | Healthcare Finance Ne\\xe2\\x80\\xa6'\n",
      "SENTIMENT: -0.6\n",
      " #EnCirca The domain 'BLOOMBERG .BOT' was just registered! Get your .BOT here! https\n",
      "SENTIMENT: 0.0\n",
      " The right way to do #AI in security &gt; https\n",
      "SENTIMENT: 0.2857142857142857\n"
     ]
    }
   ],
   "source": [
    "for tweet in sample:\n",
    "  tb = TextBlob(tweet)\n",
    "  print(tweet)\n",
    "  print('SENTIMENT: %s' % str(tb.sentiment.polarity))"
   ]
  },
  {
   "cell_type": "code",
   "execution_count": 15,
   "metadata": {},
   "outputs": [],
   "source": [
    "scores = []\n",
    "\n",
    "for tweet in text:\n",
    "    tb = TextBlob(tweet)\n",
    "    scores.append(tb.sentiment.polarity)"
   ]
  },
  {
   "cell_type": "code",
   "execution_count": 16,
   "metadata": {},
   "outputs": [],
   "source": [
    "twitter_db['sentiment'] = pd.Series(scores)"
   ]
  },
  {
   "cell_type": "code",
   "execution_count": 17,
   "metadata": {},
   "outputs": [
    {
     "data": {
      "text/html": [
       "<div>\n",
       "<style scoped>\n",
       "    .dataframe tbody tr th:only-of-type {\n",
       "        vertical-align: middle;\n",
       "    }\n",
       "\n",
       "    .dataframe tbody tr th {\n",
       "        vertical-align: top;\n",
       "    }\n",
       "\n",
       "    .dataframe thead th {\n",
       "        text-align: right;\n",
       "    }\n",
       "</style>\n",
       "<table border=\"1\" class=\"dataframe\">\n",
       "  <thead>\n",
       "    <tr style=\"text-align: right;\">\n",
       "      <th></th>\n",
       "      <th>Date</th>\n",
       "      <th>text</th>\n",
       "      <th>sentiment</th>\n",
       "    </tr>\n",
       "  </thead>\n",
       "  <tbody>\n",
       "    <tr>\n",
       "      <th>0</th>\n",
       "      <td>2019-05-08 19:21:39</td>\n",
       "      <td>b'RT @BardishKW: .@perimeter\\xe2\\x80\\x99s Anna...</td>\n",
       "      <td>0.0</td>\n",
       "    </tr>\n",
       "    <tr>\n",
       "      <th>1</th>\n",
       "      <td>2019-05-08 19:20:44</td>\n",
       "      <td>b'RT @kiranshaw: Scientists have developed an ...</td>\n",
       "      <td>0.1</td>\n",
       "    </tr>\n",
       "    <tr>\n",
       "      <th>2</th>\n",
       "      <td>2019-05-08 19:20:37</td>\n",
       "      <td>b'RT @LordGuthrie: One of the best questions a...</td>\n",
       "      <td>1.0</td>\n",
       "    </tr>\n",
       "    <tr>\n",
       "      <th>3</th>\n",
       "      <td>2019-05-08 19:20:27</td>\n",
       "      <td>b'RT @Ronald_vanLoon: Hasso Plattner kicks off...</td>\n",
       "      <td>0.0</td>\n",
       "    </tr>\n",
       "    <tr>\n",
       "      <th>4</th>\n",
       "      <td>2019-05-08 19:20:24</td>\n",
       "      <td>b'RT @ccmconsultancy: Our Managing Partner, @e...</td>\n",
       "      <td>0.8</td>\n",
       "    </tr>\n",
       "  </tbody>\n",
       "</table>\n",
       "</div>"
      ],
      "text/plain": [
       "                  Date                                               text  \\\n",
       "0  2019-05-08 19:21:39  b'RT @BardishKW: .@perimeter\\xe2\\x80\\x99s Anna...   \n",
       "1  2019-05-08 19:20:44  b'RT @kiranshaw: Scientists have developed an ...   \n",
       "2  2019-05-08 19:20:37  b'RT @LordGuthrie: One of the best questions a...   \n",
       "3  2019-05-08 19:20:27  b'RT @Ronald_vanLoon: Hasso Plattner kicks off...   \n",
       "4  2019-05-08 19:20:24  b'RT @ccmconsultancy: Our Managing Partner, @e...   \n",
       "\n",
       "   sentiment  \n",
       "0        0.0  \n",
       "1        0.1  \n",
       "2        1.0  \n",
       "3        0.0  \n",
       "4        0.8  "
      ]
     },
     "execution_count": 17,
     "metadata": {},
     "output_type": "execute_result"
    }
   ],
   "source": [
    "twitter_db.head()"
   ]
  },
  {
   "cell_type": "code",
   "execution_count": 18,
   "metadata": {},
   "outputs": [
    {
     "data": {
      "text/plain": [
       "(54846, 3)"
      ]
     },
     "execution_count": 18,
     "metadata": {},
     "output_type": "execute_result"
    }
   ],
   "source": [
    "twitter_db.shape"
   ]
  },
  {
   "cell_type": "code",
   "execution_count": 19,
   "metadata": {},
   "outputs": [],
   "source": [
    "twitter_db = twitter_db[twitter_db['sentiment']!=0.0]"
   ]
  },
  {
   "cell_type": "code",
   "execution_count": 20,
   "metadata": {},
   "outputs": [
    {
     "data": {
      "text/plain": [
       "(16514, 3)"
      ]
     },
     "execution_count": 20,
     "metadata": {},
     "output_type": "execute_result"
    }
   ],
   "source": [
    "twitter_db.shape"
   ]
  },
  {
   "cell_type": "code",
   "execution_count": 22,
   "metadata": {},
   "outputs": [
    {
     "data": {
      "text/plain": [
       "(10884, 3)"
      ]
     },
     "execution_count": 22,
     "metadata": {},
     "output_type": "execute_result"
    }
   ],
   "source": [
    "twitter_db[twitter_db['sentiment'] > 0].shape"
   ]
  },
  {
   "cell_type": "code",
   "execution_count": 23,
   "metadata": {},
   "outputs": [
    {
     "data": {
      "text/plain": [
       "(5529, 3)"
      ]
     },
     "execution_count": 23,
     "metadata": {},
     "output_type": "execute_result"
    }
   ],
   "source": [
    "twitter_db[twitter_db['sentiment'] < 0].shape"
   ]
  },
  {
   "cell_type": "code",
   "execution_count": 24,
   "metadata": {},
   "outputs": [
    {
     "data": {
      "text/plain": [
       "30.10976187871495"
      ]
     },
     "execution_count": 24,
     "metadata": {},
     "output_type": "execute_result"
    }
   ],
   "source": [
    "10884/16514*100"
   ]
  },
  {
   "cell_type": "code",
   "execution_count": 25,
   "metadata": {},
   "outputs": [
    {
     "data": {
      "text/plain": [
       "33.480683056800295"
      ]
     },
     "execution_count": 25,
     "metadata": {},
     "output_type": "execute_result"
    }
   ],
   "source": [
    "5529/16514*100"
   ]
  },
  {
   "cell_type": "code",
   "execution_count": null,
   "metadata": {},
   "outputs": [],
   "source": []
  }
 ],
 "metadata": {
  "kernelspec": {
   "display_name": "Python 3",
   "language": "python",
   "name": "python3"
  },
  "language_info": {
   "codemirror_mode": {
    "name": "ipython",
    "version": 3
   },
   "file_extension": ".py",
   "mimetype": "text/x-python",
   "name": "python",
   "nbconvert_exporter": "python",
   "pygments_lexer": "ipython3",
   "version": "3.6.2"
  }
 },
 "nbformat": 4,
 "nbformat_minor": 2
}
