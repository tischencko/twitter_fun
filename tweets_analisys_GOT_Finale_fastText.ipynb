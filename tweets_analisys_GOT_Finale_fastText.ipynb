{
 "cells": [
  {
   "cell_type": "code",
   "execution_count": 1,
   "metadata": {},
   "outputs": [],
   "source": [
    "import tweepy\n",
    "import pandas as pd\n",
    "import numpy as np"
   ]
  },
  {
   "cell_type": "code",
   "execution_count": 2,
   "metadata": {},
   "outputs": [
    {
     "name": "stdout",
     "output_type": "stream",
     "text": [
      "[nltk_data] Downloading package punkt to\n",
      "[nltk_data]     C:\\Users\\tisch\\AppData\\Roaming\\nltk_data...\n",
      "[nltk_data]   Package punkt is already up-to-date!\n"
     ]
    }
   ],
   "source": [
    "import io\n",
    "def load_vectors(fname):\n",
    "    fin = io.open(fname, 'r', encoding='utf-8', newline='\\n', errors='ignore')\n",
    "    n, d = map(int, fin.readline().split())\n",
    "    data = {}\n",
    "    for line in fin:\n",
    "        tokens = line.rstrip().split(' ')\n",
    "        data[tokens[0]] = map(float, tokens[1:])\n",
    "    return data\n",
    "import sys\n",
    "import os\n",
    "import nltk\n",
    "nltk.download('punkt')\n",
    "import csv\n",
    "import datetime\n",
    "from bs4 import BeautifulSoup\n",
    "import re\n",
    "import itertools\n",
    "import emoji"
   ]
  },
  {
   "cell_type": "code",
   "execution_count": 3,
   "metadata": {},
   "outputs": [],
   "source": [
    "def load_dict_smileys():\n",
    "    \n",
    "    return {\n",
    "        \":‑)\":\"smiley\",\n",
    "        \":-]\":\"smiley\",\n",
    "        \":-3\":\"smiley\",\n",
    "        \":->\":\"smiley\",\n",
    "        \"8-)\":\"smiley\",\n",
    "        \":-}\":\"smiley\",\n",
    "        \":)\":\"smiley\",\n",
    "        \":]\":\"smiley\",\n",
    "        \":3\":\"smiley\",\n",
    "        \":>\":\"smiley\",\n",
    "        \"8)\":\"smiley\",\n",
    "        \":}\":\"smiley\",\n",
    "        \":o)\":\"smiley\",\n",
    "        \":c)\":\"smiley\",\n",
    "        \":^)\":\"smiley\",\n",
    "        \"=]\":\"smiley\",\n",
    "        \"=)\":\"smiley\",\n",
    "        \":-))\":\"smiley\",\n",
    "        \":‑D\":\"smiley\",\n",
    "        \"8‑D\":\"smiley\",\n",
    "        \"x‑D\":\"smiley\",\n",
    "        \"X‑D\":\"smiley\",\n",
    "        \":D\":\"smiley\",\n",
    "        \"8D\":\"smiley\",\n",
    "        \"xD\":\"smiley\",\n",
    "        \"XD\":\"smiley\",\n",
    "        \":‑(\":\"sad\",\n",
    "        \":‑c\":\"sad\",\n",
    "        \":‑<\":\"sad\",\n",
    "        \":‑[\":\"sad\",\n",
    "        \":(\":\"sad\",\n",
    "        \":c\":\"sad\",\n",
    "        \":<\":\"sad\",\n",
    "        \":[\":\"sad\",\n",
    "        \":-||\":\"sad\",\n",
    "        \">:[\":\"sad\",\n",
    "        \":{\":\"sad\",\n",
    "        \":@\":\"sad\",\n",
    "        \">:(\":\"sad\",\n",
    "        \":'‑(\":\"sad\",\n",
    "        \":'(\":\"sad\",\n",
    "        \":‑P\":\"playful\",\n",
    "        \"X‑P\":\"playful\",\n",
    "        \"x‑p\":\"playful\",\n",
    "        \":‑p\":\"playful\",\n",
    "        \":‑Þ\":\"playful\",\n",
    "        \":‑þ\":\"playful\",\n",
    "        \":‑b\":\"playful\",\n",
    "        \":P\":\"playful\",\n",
    "        \"XP\":\"playful\",\n",
    "        \"xp\":\"playful\",\n",
    "        \":p\":\"playful\",\n",
    "        \":Þ\":\"playful\",\n",
    "        \":þ\":\"playful\",\n",
    "        \":b\":\"playful\",\n",
    "        \"<3\":\"love\"\n",
    "        }   "
   ]
  },
  {
   "cell_type": "code",
   "execution_count": 4,
   "metadata": {},
   "outputs": [],
   "source": [
    "# self defined contractions\n",
    "def load_dict_contractions():\n",
    "    \n",
    "    return {\n",
    "        \"ain't\":\"is not\",\n",
    "        \"amn't\":\"am not\",\n",
    "        \"aren't\":\"are not\",\n",
    "        \"can't\":\"cannot\",\n",
    "        \"'cause\":\"because\",\n",
    "        \"couldn't\":\"could not\",\n",
    "        \"couldn't've\":\"could not have\",\n",
    "        \"could've\":\"could have\",\n",
    "        \"daren't\":\"dare not\",\n",
    "        \"daresn't\":\"dare not\",\n",
    "        \"dasn't\":\"dare not\",\n",
    "        \"didn't\":\"did not\",\n",
    "        \"doesn't\":\"does not\",\n",
    "        \"don't\":\"do not\",\n",
    "        \"e'er\":\"ever\",\n",
    "        \"em\":\"them\",\n",
    "        \"everyone's\":\"everyone is\",\n",
    "        \"finna\":\"fixing to\",\n",
    "        \"gimme\":\"give me\",\n",
    "        \"gonna\":\"going to\",\n",
    "        \"gon't\":\"go not\",\n",
    "        \"gotta\":\"got to\",\n",
    "        \"hadn't\":\"had not\",\n",
    "        \"hasn't\":\"has not\",\n",
    "        \"haven't\":\"have not\",\n",
    "        \"he'd\":\"he would\",\n",
    "        \"he'll\":\"he will\",\n",
    "        \"he's\":\"he is\",\n",
    "        \"he've\":\"he have\",\n",
    "        \"how'd\":\"how would\",\n",
    "        \"how'll\":\"how will\",\n",
    "        \"how're\":\"how are\",\n",
    "        \"how's\":\"how is\",\n",
    "        \"I'd\":\"I would\",\n",
    "        \"I'll\":\"I will\",\n",
    "        \"I'm\":\"I am\",\n",
    "        \"I'm'a\":\"I am about to\",\n",
    "        \"I'm'o\":\"I am going to\",\n",
    "        \"isn't\":\"is not\",\n",
    "        \"it'd\":\"it would\",\n",
    "        \"it'll\":\"it will\",\n",
    "        \"it's\":\"it is\",\n",
    "        \"I've\":\"I have\",\n",
    "        \"kinda\":\"kind of\",\n",
    "        \"let's\":\"let us\",\n",
    "        \"mayn't\":\"may not\",\n",
    "        \"may've\":\"may have\",\n",
    "        \"mightn't\":\"might not\",\n",
    "        \"might've\":\"might have\",\n",
    "        \"mustn't\":\"must not\",\n",
    "        \"mustn't've\":\"must not have\",\n",
    "        \"must've\":\"must have\",\n",
    "        \"needn't\":\"need not\",\n",
    "        \"ne'er\":\"never\",\n",
    "        \"o'\":\"of\",\n",
    "        \"o'er\":\"over\",\n",
    "        \"ol'\":\"old\",\n",
    "        \"oughtn't\":\"ought not\",\n",
    "        \"shalln't\":\"shall not\",\n",
    "        \"shan't\":\"shall not\",\n",
    "        \"she'd\":\"she would\",\n",
    "        \"she'll\":\"she will\",\n",
    "        \"she's\":\"she is\",\n",
    "        \"shouldn't\":\"should not\",\n",
    "        \"shouldn't've\":\"should not have\",\n",
    "        \"should've\":\"should have\",\n",
    "        \"somebody's\":\"somebody is\",\n",
    "        \"someone's\":\"someone is\",\n",
    "        \"something's\":\"something is\",\n",
    "        \"that'd\":\"that would\",\n",
    "        \"that'll\":\"that will\",\n",
    "        \"that're\":\"that are\",\n",
    "        \"that's\":\"that is\",\n",
    "        \"there'd\":\"there would\",\n",
    "        \"there'll\":\"there will\",\n",
    "        \"there're\":\"there are\",\n",
    "        \"there's\":\"there is\",\n",
    "        \"these're\":\"these are\",\n",
    "        \"they'd\":\"they would\",\n",
    "        \"they'll\":\"they will\",\n",
    "        \"they're\":\"they are\",\n",
    "        \"they've\":\"they have\",\n",
    "        \"this's\":\"this is\",\n",
    "        \"those're\":\"those are\",\n",
    "        \"'tis\":\"it is\",\n",
    "        \"'twas\":\"it was\",\n",
    "        \"wanna\":\"want to\",\n",
    "        \"wasn't\":\"was not\",\n",
    "        \"we'd\":\"we would\",\n",
    "        \"we'd've\":\"we would have\",\n",
    "        \"we'll\":\"we will\",\n",
    "        \"we're\":\"we are\",\n",
    "        \"weren't\":\"were not\",\n",
    "        \"we've\":\"we have\",\n",
    "        \"what'd\":\"what did\",\n",
    "        \"what'll\":\"what will\",\n",
    "        \"what're\":\"what are\",\n",
    "        \"what's\":\"what is\",\n",
    "        \"what've\":\"what have\",\n",
    "        \"when's\":\"when is\",\n",
    "        \"where'd\":\"where did\",\n",
    "        \"where're\":\"where are\",\n",
    "        \"where's\":\"where is\",\n",
    "        \"where've\":\"where have\",\n",
    "        \"which's\":\"which is\",\n",
    "        \"who'd\":\"who would\",\n",
    "        \"who'd've\":\"who would have\",\n",
    "        \"who'll\":\"who will\",\n",
    "        \"who're\":\"who are\",\n",
    "        \"who's\":\"who is\",\n",
    "        \"who've\":\"who have\",\n",
    "        \"why'd\":\"why did\",\n",
    "        \"why're\":\"why are\",\n",
    "        \"why's\":\"why is\",\n",
    "        \"won't\":\"will not\",\n",
    "        \"wouldn't\":\"would not\",\n",
    "        \"would've\":\"would have\",\n",
    "        \"y'all\":\"you all\",\n",
    "        \"you'd\":\"you would\",\n",
    "        \"you'll\":\"you will\",\n",
    "        \"you're\":\"you are\",\n",
    "        \"you've\":\"you have\",\n",
    "        \"Whatcha\":\"What are you\",\n",
    "        \"luv\":\"love\",\n",
    "        \"sux\":\"sucks\"\n",
    "        }"
   ]
  },
  {
   "cell_type": "code",
   "execution_count": 5,
   "metadata": {
    "scrolled": true
   },
   "outputs": [
    {
     "data": {
      "text/html": [
       "<div>\n",
       "<style scoped>\n",
       "    .dataframe tbody tr th:only-of-type {\n",
       "        vertical-align: middle;\n",
       "    }\n",
       "\n",
       "    .dataframe tbody tr th {\n",
       "        vertical-align: top;\n",
       "    }\n",
       "\n",
       "    .dataframe thead th {\n",
       "        text-align: right;\n",
       "    }\n",
       "</style>\n",
       "<table border=\"1\" class=\"dataframe\">\n",
       "  <thead>\n",
       "    <tr style=\"text-align: right;\">\n",
       "      <th></th>\n",
       "      <th>date</th>\n",
       "      <th>text</th>\n",
       "    </tr>\n",
       "  </thead>\n",
       "  <tbody>\n",
       "    <tr>\n",
       "      <th>0</th>\n",
       "      <td>2019-06-20 10:43:00</td>\n",
       "      <td>RT @acursedlove: EVERYBODY LET’S SAY THANK YOU...</td>\n",
       "    </tr>\n",
       "    <tr>\n",
       "      <th>1</th>\n",
       "      <td>2019-06-20 10:38:52</td>\n",
       "      <td>RT @lMMUNlTYIDOL: rip two of the most interest...</td>\n",
       "    </tr>\n",
       "    <tr>\n",
       "      <th>2</th>\n",
       "      <td>2019-06-20 10:28:58</td>\n",
       "      <td>Throwback to one of the best frames that ever ...</td>\n",
       "    </tr>\n",
       "    <tr>\n",
       "      <th>3</th>\n",
       "      <td>2019-06-20 10:27:51</td>\n",
       "      <td>Hale and hearty, #KitHarington has reportedly ...</td>\n",
       "    </tr>\n",
       "    <tr>\n",
       "      <th>4</th>\n",
       "      <td>2019-06-20 10:26:08</td>\n",
       "      <td>@dino_melaye Good day twitter sir please help ...</td>\n",
       "    </tr>\n",
       "  </tbody>\n",
       "</table>\n",
       "</div>"
      ],
      "text/plain": [
       "                  date                                               text\n",
       "0  2019-06-20 10:43:00  RT @acursedlove: EVERYBODY LET’S SAY THANK YOU...\n",
       "1  2019-06-20 10:38:52  RT @lMMUNlTYIDOL: rip two of the most interest...\n",
       "2  2019-06-20 10:28:58  Throwback to one of the best frames that ever ...\n",
       "3  2019-06-20 10:27:51  Hale and hearty, #KitHarington has reportedly ...\n",
       "4  2019-06-20 10:26:08  @dino_melaye Good day twitter sir please help ..."
      ]
     },
     "execution_count": 5,
     "metadata": {},
     "output_type": "execute_result"
    }
   ],
   "source": [
    "twitter_df = pd.read_csv('GOT_tweets_raw.csv', index_col = 0)\n",
    "twitter_df.head()"
   ]
  },
  {
   "cell_type": "code",
   "execution_count": 6,
   "metadata": {},
   "outputs": [
    {
     "data": {
      "text/plain": [
       "(819, 2)"
      ]
     },
     "execution_count": 6,
     "metadata": {},
     "output_type": "execute_result"
    }
   ],
   "source": [
    "twitter_df.shape"
   ]
  },
  {
   "cell_type": "code",
   "execution_count": 7,
   "metadata": {},
   "outputs": [
    {
     "data": {
      "text/plain": [
       "['RT @acursedlove: EVERYBODY LET’S SAY THANK YOU TO THE BEST CAST EVER. \\r\\n\\r\\n#GamefThrones #GameOfThronesFinale \\r\\n#TheFinalEpisode https://t.co/w…',\n",
       " 'RT @lMMUNlTYIDOL: rip two of the most interesting characters game of thrones (and television in general) has ever seen :( cersei and jaime…',\n",
       " 'Throwback to one of the best frames that ever graced TV. #gameofthronesfinale #tvseries #tbt https://t.co/eLPrESZVAJ']"
      ]
     },
     "execution_count": 7,
     "metadata": {},
     "output_type": "execute_result"
    }
   ],
   "source": [
    "tweets = list(twitter_df['text'])\n",
    "tweets[:3]"
   ]
  },
  {
   "cell_type": "code",
   "execution_count": 8,
   "metadata": {},
   "outputs": [
    {
     "data": {
      "text/plain": [
       "['RT @acursedlove: EVERYBODY LET’S SAY THANK YOU TO THE BEST CAST EVER. \\r\\n\\r\\n#GamefThrones #GameOfThronesFinale \\r\\n#TheFinalEpisode https://t.co/w…',\n",
       " 'RT @lMMUNlTYIDOL: rip two of the most interesting characters game of thrones (and television in general) has ever seen :( cersei and jaime…',\n",
       " 'Throwback to one of the best frames that ever graced TV. #gameofthronesfinale #tvseries #tbt https://t.co/eLPrESZVAJ']"
      ]
     },
     "execution_count": 8,
     "metadata": {},
     "output_type": "execute_result"
    }
   ],
   "source": [
    "#Escaping HTML characters\n",
    "tweets = [BeautifulSoup(elem).get_text() for elem in tweets]\n",
    "tweets[:3]"
   ]
  },
  {
   "cell_type": "code",
   "execution_count": 9,
   "metadata": {},
   "outputs": [
    {
     "data": {
      "text/plain": [
       "['RT @acursedlove: EVERYBODY LET’S SAY THANK YOU TO THE BEST CAST EVER. \\r\\n\\r\\n#GamefThrones #GameOfThronesFinale \\r\\n#TheFinalEpisode https://t.co/w…',\n",
       " 'RT @lMMUNlTYIDOL: rip two of the most interesting characters game of thrones (and television in general) has ever seen :( cersei and jaime…',\n",
       " 'Throwback to one of the best frames that ever graced TV. #gameofthronesfinale #tvseries #tbt https://t.co/eLPrESZVAJ']"
      ]
     },
     "execution_count": 9,
     "metadata": {},
     "output_type": "execute_result"
    }
   ],
   "source": [
    "# Special case not handled previously.\n",
    "tweets = [elem.replace('\\x92',\"'\") for elem in tweets]\n",
    "tweets[:3]"
   ]
  },
  {
   "cell_type": "code",
   "execution_count": 10,
   "metadata": {},
   "outputs": [
    {
     "data": {
      "text/plain": [
       "['RT : EVERYBODY LET’S SAY THANK YOU TO THE BEST CAST EVER. https://t.co/w…',\n",
       " 'RT : rip two of the most interesting characters game of thrones (and television in general) has ever seen :( cersei and jaime…',\n",
       " 'Throwback to one of the best frames that ever graced TV. https://t.co/eLPrESZVAJ']"
      ]
     },
     "execution_count": 10,
     "metadata": {},
     "output_type": "execute_result"
    }
   ],
   "source": [
    "#Removal of hastags/account\n",
    "tweets = [' '.join(re.sub(\"(@[A-Za-z0-9]+)|(#[A-Za-z0-9]+)\", \" \", elem).split()) for elem in tweets]\n",
    "tweets[:3]"
   ]
  },
  {
   "cell_type": "code",
   "execution_count": 11,
   "metadata": {},
   "outputs": [
    {
     "data": {
      "text/plain": [
       "['RT : EVERYBODY LET’S SAY THANK YOU TO THE BEST CAST EVER.',\n",
       " 'RT : rip two of the most interesting characters game of thrones (and television in general) has ever seen :( cersei and jaime…',\n",
       " 'Throwback to one of the best frames that ever graced TV.']"
      ]
     },
     "execution_count": 11,
     "metadata": {},
     "output_type": "execute_result"
    }
   ],
   "source": [
    "#Removal of address\n",
    "tweets = [' '.join(re.sub(\"(\\w+:\\/\\/\\S+)\", \" \", elem).split()) for elem in tweets]\n",
    "tweets[:3]"
   ]
  },
  {
   "cell_type": "code",
   "execution_count": 12,
   "metadata": {},
   "outputs": [
    {
     "data": {
      "text/plain": [
       "['RT EVERYBODY LET’S SAY THANK YOU TO THE BEST CAST EVER',\n",
       " 'RT rip two of the most interesting characters game of thrones (and television in general) has ever seen ( cersei and jaime…',\n",
       " 'Throwback to one of the best frames that ever graced TV']"
      ]
     },
     "execution_count": 12,
     "metadata": {},
     "output_type": "execute_result"
    }
   ],
   "source": [
    "#Removal of Punctuation\n",
    "tweets = [' '.join(re.sub(\"[\\.\\,\\!\\?\\:\\;\\-\\=]\", \" \", elem).split()) for elem in tweets]\n",
    "tweets[:3]"
   ]
  },
  {
   "cell_type": "code",
   "execution_count": 13,
   "metadata": {},
   "outputs": [
    {
     "data": {
      "text/plain": [
       "['rt everybody let’s say thank you to the best cast ever',\n",
       " 'rt rip two of the most interesting characters game of thrones (and television in general) has ever seen ( cersei and jaime…',\n",
       " 'throwback to one of the best frames that ever graced tv']"
      ]
     },
     "execution_count": 13,
     "metadata": {},
     "output_type": "execute_result"
    }
   ],
   "source": [
    "#Lower case\n",
    "tweets = [elem.lower() for elem in tweets]\n",
    "tweets[:3] "
   ]
  },
  {
   "cell_type": "code",
   "execution_count": 14,
   "metadata": {},
   "outputs": [
    {
     "data": {
      "text/plain": [
       "['rt everybody let us say thank you to the best cast ever',\n",
       " 'rt rip two of the most interesting characters game of thrones (and television in general) has ever seen ( cersei and jaime…',\n",
       " 'throwback to one of the best frames that ever graced tv']"
      ]
     },
     "execution_count": 14,
     "metadata": {},
     "output_type": "execute_result"
    }
   ],
   "source": [
    "#CONTRACTIONS source: https://en.wikipedia.org/wiki/Contraction_%28grammar%29\n",
    "CONTRACTIONS = load_dict_contractions()\n",
    "tweets = [elem.replace(\"’\",\"'\") for elem in tweets]\n",
    "words = [elem.split() for elem in tweets]\n",
    "reformed = []\n",
    "for tweet_words in words:\n",
    "    reformed.append([CONTRACTIONS.get(word, word) for word in tweet_words]) # CONTRACTIONS.get(word, word) == CONTRACTIONS[word] if word in CONSTRACTIONS else word\n",
    "tweets = [\" \".join(tweet_words_reformed) for tweet_words_reformed in reformed]\n",
    "tweets[:3]\n",
    "\n",
    "# tweet = tweet.replace(\"’\",\"'\")\n",
    "# words = tweet.split()\n",
    "# reformed = [CONTRACTIONS[word] if word in CONTRACTIONS else word for word in words]\n",
    "# tweet = \" \".join(reformed)"
   ]
  },
  {
   "cell_type": "code",
   "execution_count": 15,
   "metadata": {},
   "outputs": [
    {
     "data": {
      "text/plain": [
       "['rt everybody let us say thank you to the best cast ever',\n",
       " 'rt rip two of the most interesting characters game of thrones (and television in general) has ever seen ( cersei and jaime…',\n",
       " 'throwback to one of the best frames that ever graced tv']"
      ]
     },
     "execution_count": 15,
     "metadata": {},
     "output_type": "execute_result"
    }
   ],
   "source": [
    "# Standardizing words, misspelled words fix => checking that each character should occur not more than 2 times in every word\n",
    "tweets1 = []\n",
    "for tweet in tweets:\n",
    "    tweets1.append(''.join(''.join(s)[:2] for _, s in itertools.groupby(tweet)))\n",
    "tweets1[:3]     "
   ]
  },
  {
   "cell_type": "code",
   "execution_count": 16,
   "metadata": {},
   "outputs": [
    {
     "data": {
      "text/plain": [
       "['rt everybody let us say thank you to the best cast ever',\n",
       " 'rt rip two of the most interesting characters game of thrones (and television in general) has ever seen ( cersei and jaime…',\n",
       " 'throwback to one of the best frames that ever graced tv']"
      ]
     },
     "execution_count": 16,
     "metadata": {},
     "output_type": "execute_result"
    }
   ],
   "source": [
    "#Deal with emoticons source: https://en.wikipedia.org/wiki/List_of_emoticons\n",
    "SMILEY = load_dict_smileys()  \n",
    "words = [tweet.split() for tweet in tweets1]\n",
    "reformed = []\n",
    "for tweet_words in words:\n",
    "    reformed.append([SMILEY.get(word, word) for word in tweet_words])\n",
    "tweets1 = [\" \".join(tweet_words_reformed) for tweet_words_reformed in reformed]\n",
    "tweets1[:3] "
   ]
  },
  {
   "cell_type": "code",
   "execution_count": 18,
   "metadata": {},
   "outputs": [
    {
     "data": {
      "text/plain": [
       "['rt everybody let us say thank you to the best cast ever',\n",
       " 'rt rip two of the most interesting characters game of thrones (and television in general) has ever seen ( cersei and jaime…',\n",
       " 'throwback to one of the best frames that ever graced tv']"
      ]
     },
     "execution_count": 18,
     "metadata": {},
     "output_type": "execute_result"
    }
   ],
   "source": [
    "#Deal with emojis\n",
    "tweets1 = [emoji.demojize(tweet) for tweet in tweets1]\n",
    "tweets1[:3] "
   ]
  },
  {
   "cell_type": "code",
   "execution_count": 26,
   "metadata": {},
   "outputs": [
    {
     "data": {
      "text/plain": [
       "['everybody let us say thank you to the best cast ever',\n",
       " 'rip two of the most interesting characters game of thrones (and television in general) has ever seen ( cersei and jaime…',\n",
       " 'throwback to one of the best frames that ever graced tv']"
      ]
     },
     "execution_count": 26,
     "metadata": {},
     "output_type": "execute_result"
    }
   ],
   "source": [
    "tweets = []\n",
    "for tweet in tweets1:\n",
    "    if tweet[:3] == \"rt \":\n",
    "        tweets.append(tweet[3:])\n",
    "    else:\n",
    "        tweets.append(tweet)\n",
    "tweets[:3]  "
   ]
  },
  {
   "cell_type": "code",
   "execution_count": 27,
   "metadata": {},
   "outputs": [
    {
     "data": {
      "text/plain": [
       "(819, 3)"
      ]
     },
     "execution_count": 27,
     "metadata": {},
     "output_type": "execute_result"
    }
   ],
   "source": [
    "twitter_df.shape"
   ]
  },
  {
   "cell_type": "code",
   "execution_count": 28,
   "metadata": {},
   "outputs": [],
   "source": [
    "import random\n",
    "from textblob import TextBlob\n",
    "\n",
    "SEED=42\n",
    "random.seed(SEED)"
   ]
  },
  {
   "cell_type": "code",
   "execution_count": 29,
   "metadata": {},
   "outputs": [
    {
     "name": "stdout",
     "output_type": "stream",
     "text": [
      "so basically jon snow went through what he had to go through just to get back to what he used to go through:loudly_crying_face:\n",
      "SENTIMENT: 0.0\n",
      "youtuber rewrites got ending and people say that this is how it should have ended\n",
      "SENTIMENT: 0.0\n",
      "kindly help retweet until he sees it coloured ballpen drawing of _dinklage rema messi dybala argentina avengers end game\n",
      "SENTIMENT: 0.09999999999999998\n",
      "sick\n",
      "SENTIMENT: -0.7142857142857143\n",
      "say what you will about the the john hughes homage was a bold choice to end on\n",
      "SENTIMENT: 0.3333333333333333\n",
      "mother of dragons shirts glitter or reg tee or tank sizes up to 2x\n",
      "SENTIMENT: 0.0\n",
      "drogon destroying the iron throne because new king bran got his own seat …\n",
      "SENTIMENT: 0.1787878787878788\n",
      "what a bullshit ending my watch has ended\n",
      "SENTIMENT: 0.0\n",
      "say what you will about the the john hughes homage was a bold choice to end on\n",
      "SENTIMENT: 0.3333333333333333\n",
      "good fucking riddance these writers should never be allowed to work again\n",
      "SENTIMENT: 0.04999999999999999\n",
      "_1da wwttff wass thatt …\n",
      "SENTIMENT: 0.0\n",
      "let us talk about this cute little precious baby :red_heart::red_heart:\n",
      "SENTIMENT: 0.2708333333333333\n",
      "how about that i tell ya it sure would be tough to live back then absolutely no ac or electricity wild luckily kong's electric is here to make sure you never have too\n",
      "SENTIMENT: 0.1351010101010101\n",
      "it will not end a lot of loose ends they will be back in 5 years just give them a break …\n",
      "SENTIMENT: -0.038461538461538464\n",
      "say what you will about the the john hughes homage was a bold choice to end on\n",
      "SENTIMENT: 0.3333333333333333\n",
      "killing daenerys is not the end of everything you had a very good opportunity to teach about love to make a world…\n",
      "SENTIMENT: 0.705\n",
      "close to a decade of our lives for this\n",
      "SENTIMENT: 0.0\n",
      "_kristenleigh “jaime lannister is the nastiest skank bitch i've ever met do not trust him he is a fugly slut ” …\n",
      "SENTIMENT: 0.0\n",
      "game of thrones shirt\n",
      "SENTIMENT: -0.4\n",
      "bran the broken :face_with_tears_of_joy:\n",
      "SENTIMENT: -0.4\n",
      "lena headey on 'game of thrones' ending 'i wanted a better death' for cersei\n",
      "SENTIMENT: 0.04999999999999999\n",
      "_jay_origin ok lemme get this straight jon snow was a targeryen for no reason bran was three eye raven for no reason danny's en…\n",
      "SENTIMENT: 0.35\n",
      "and have a similarity ha ha ha epic failure\n",
      "SENTIMENT: -0.10833333333333335\n",
      "do the geneva conventions apply in westeros for the the analysed every violation of internati…\n",
      "SENTIMENT: 0.0\n",
      "this is how should have ended\n",
      "SENTIMENT: 0.0\n",
      "special episode on what did you guys what to see\n",
      "SENTIMENT: 0.35714285714285715\n",
      "queen in the north lots of symbolism here chose the colors that mostly represent house stark drawing the armor was th…\n",
      "SENTIMENT: 0.15\n",
      "'s apology for season 8 is finally out\n",
      "SENTIMENT: 0.0\n",
      "is doin n stuff tone dus a bit ov paintin on th side wassa bit on th side i feel :face_vomiting:\n",
      "SENTIMENT: 0.0\n",
      "as everyone is been saying arya went west jon went north drogon went east and the series went south …\n",
      "SENTIMENT: 0.0\n"
     ]
    }
   ],
   "source": [
    "sample = random.sample(tweets, 30)\n",
    "for tweet in sample:\n",
    "    tb = TextBlob(tweet)\n",
    "    print(tweet)\n",
    "    print('SENTIMENT: %s' % str(tb.sentiment.polarity)) # \"hello %s\" % (name,) => hello Ela"
   ]
  },
  {
   "cell_type": "code",
   "execution_count": 30,
   "metadata": {},
   "outputs": [
    {
     "data": {
      "text/html": [
       "<div>\n",
       "<style scoped>\n",
       "    .dataframe tbody tr th:only-of-type {\n",
       "        vertical-align: middle;\n",
       "    }\n",
       "\n",
       "    .dataframe tbody tr th {\n",
       "        vertical-align: top;\n",
       "    }\n",
       "\n",
       "    .dataframe thead th {\n",
       "        text-align: right;\n",
       "    }\n",
       "</style>\n",
       "<table border=\"1\" class=\"dataframe\">\n",
       "  <thead>\n",
       "    <tr style=\"text-align: right;\">\n",
       "      <th></th>\n",
       "      <th>date</th>\n",
       "      <th>text</th>\n",
       "      <th>sentiment</th>\n",
       "    </tr>\n",
       "  </thead>\n",
       "  <tbody>\n",
       "    <tr>\n",
       "      <th>0</th>\n",
       "      <td>2019-06-20 10:43:00</td>\n",
       "      <td>everybody let us say thank you to the best cas...</td>\n",
       "      <td>1.0000</td>\n",
       "    </tr>\n",
       "    <tr>\n",
       "      <th>1</th>\n",
       "      <td>2019-06-20 10:38:52</td>\n",
       "      <td>rip two of the most interesting characters gam...</td>\n",
       "      <td>0.1625</td>\n",
       "    </tr>\n",
       "    <tr>\n",
       "      <th>2</th>\n",
       "      <td>2019-06-20 10:28:58</td>\n",
       "      <td>throwback to one of the best frames that ever ...</td>\n",
       "      <td>1.0000</td>\n",
       "    </tr>\n",
       "    <tr>\n",
       "      <th>3</th>\n",
       "      <td>2019-06-20 10:27:51</td>\n",
       "      <td>hale and hearty has reportedly returned home f...</td>\n",
       "      <td>0.0000</td>\n",
       "    </tr>\n",
       "    <tr>\n",
       "      <th>4</th>\n",
       "      <td>2019-06-20 10:26:08</td>\n",
       "      <td>_melaye good day twitter sir please help retwe...</td>\n",
       "      <td>0.7000</td>\n",
       "    </tr>\n",
       "  </tbody>\n",
       "</table>\n",
       "</div>"
      ],
      "text/plain": [
       "                  date                                               text  \\\n",
       "0  2019-06-20 10:43:00  everybody let us say thank you to the best cas...   \n",
       "1  2019-06-20 10:38:52  rip two of the most interesting characters gam...   \n",
       "2  2019-06-20 10:28:58  throwback to one of the best frames that ever ...   \n",
       "3  2019-06-20 10:27:51  hale and hearty has reportedly returned home f...   \n",
       "4  2019-06-20 10:26:08  _melaye good day twitter sir please help retwe...   \n",
       "\n",
       "   sentiment  \n",
       "0     1.0000  \n",
       "1     0.1625  \n",
       "2     1.0000  \n",
       "3     0.0000  \n",
       "4     0.7000  "
      ]
     },
     "execution_count": 30,
     "metadata": {},
     "output_type": "execute_result"
    }
   ],
   "source": [
    "scores = []\n",
    "\n",
    "for tweet in tweets:\n",
    "    tb = TextBlob(tweet)\n",
    "    scores.append(tb.sentiment.polarity)\n",
    "    \n",
    "twitter_df['sentiment'] = pd.Series(scores)\n",
    "twitter_df.head()"
   ]
  },
  {
   "cell_type": "code",
   "execution_count": 31,
   "metadata": {},
   "outputs": [],
   "source": [
    "twitter_df['text'] = tweets"
   ]
  },
  {
   "cell_type": "code",
   "execution_count": 32,
   "metadata": {},
   "outputs": [
    {
     "data": {
      "text/html": [
       "<div>\n",
       "<style scoped>\n",
       "    .dataframe tbody tr th:only-of-type {\n",
       "        vertical-align: middle;\n",
       "    }\n",
       "\n",
       "    .dataframe tbody tr th {\n",
       "        vertical-align: top;\n",
       "    }\n",
       "\n",
       "    .dataframe thead th {\n",
       "        text-align: right;\n",
       "    }\n",
       "</style>\n",
       "<table border=\"1\" class=\"dataframe\">\n",
       "  <thead>\n",
       "    <tr style=\"text-align: right;\">\n",
       "      <th></th>\n",
       "      <th>date</th>\n",
       "      <th>text</th>\n",
       "      <th>sentiment</th>\n",
       "    </tr>\n",
       "  </thead>\n",
       "  <tbody>\n",
       "    <tr>\n",
       "      <th>0</th>\n",
       "      <td>2019-06-20 10:43:00</td>\n",
       "      <td>everybody let us say thank you to the best cas...</td>\n",
       "      <td>1.0000</td>\n",
       "    </tr>\n",
       "    <tr>\n",
       "      <th>1</th>\n",
       "      <td>2019-06-20 10:38:52</td>\n",
       "      <td>rip two of the most interesting characters gam...</td>\n",
       "      <td>0.1625</td>\n",
       "    </tr>\n",
       "    <tr>\n",
       "      <th>2</th>\n",
       "      <td>2019-06-20 10:28:58</td>\n",
       "      <td>throwback to one of the best frames that ever ...</td>\n",
       "      <td>1.0000</td>\n",
       "    </tr>\n",
       "    <tr>\n",
       "      <th>3</th>\n",
       "      <td>2019-06-20 10:27:51</td>\n",
       "      <td>hale and hearty has reportedly returned home f...</td>\n",
       "      <td>0.0000</td>\n",
       "    </tr>\n",
       "    <tr>\n",
       "      <th>4</th>\n",
       "      <td>2019-06-20 10:26:08</td>\n",
       "      <td>_melaye good day twitter sir please help retwe...</td>\n",
       "      <td>0.7000</td>\n",
       "    </tr>\n",
       "  </tbody>\n",
       "</table>\n",
       "</div>"
      ],
      "text/plain": [
       "                  date                                               text  \\\n",
       "0  2019-06-20 10:43:00  everybody let us say thank you to the best cas...   \n",
       "1  2019-06-20 10:38:52  rip two of the most interesting characters gam...   \n",
       "2  2019-06-20 10:28:58  throwback to one of the best frames that ever ...   \n",
       "3  2019-06-20 10:27:51  hale and hearty has reportedly returned home f...   \n",
       "4  2019-06-20 10:26:08  _melaye good day twitter sir please help retwe...   \n",
       "\n",
       "   sentiment  \n",
       "0     1.0000  \n",
       "1     0.1625  \n",
       "2     1.0000  \n",
       "3     0.0000  \n",
       "4     0.7000  "
      ]
     },
     "execution_count": 32,
     "metadata": {},
     "output_type": "execute_result"
    }
   ],
   "source": [
    "twitter_df.head()"
   ]
  },
  {
   "cell_type": "code",
   "execution_count": 33,
   "metadata": {},
   "outputs": [
    {
     "data": {
      "text/html": [
       "<div>\n",
       "<style scoped>\n",
       "    .dataframe tbody tr th:only-of-type {\n",
       "        vertical-align: middle;\n",
       "    }\n",
       "\n",
       "    .dataframe tbody tr th {\n",
       "        vertical-align: top;\n",
       "    }\n",
       "\n",
       "    .dataframe thead th {\n",
       "        text-align: right;\n",
       "    }\n",
       "</style>\n",
       "<table border=\"1\" class=\"dataframe\">\n",
       "  <thead>\n",
       "    <tr style=\"text-align: right;\">\n",
       "      <th></th>\n",
       "      <th>date</th>\n",
       "      <th>text</th>\n",
       "      <th>sentiment</th>\n",
       "    </tr>\n",
       "  </thead>\n",
       "  <tbody>\n",
       "    <tr>\n",
       "      <th>0</th>\n",
       "      <td>2019-06-20 10:43:00</td>\n",
       "      <td>everybody let us say thank you to the best cas...</td>\n",
       "      <td>1.000000</td>\n",
       "    </tr>\n",
       "    <tr>\n",
       "      <th>1</th>\n",
       "      <td>2019-06-20 10:38:52</td>\n",
       "      <td>rip two of the most interesting characters gam...</td>\n",
       "      <td>0.162500</td>\n",
       "    </tr>\n",
       "    <tr>\n",
       "      <th>2</th>\n",
       "      <td>2019-06-20 10:28:58</td>\n",
       "      <td>throwback to one of the best frames that ever ...</td>\n",
       "      <td>1.000000</td>\n",
       "    </tr>\n",
       "    <tr>\n",
       "      <th>3</th>\n",
       "      <td>2019-06-20 10:27:51</td>\n",
       "      <td>hale and hearty has reportedly returned home f...</td>\n",
       "      <td>0.000000</td>\n",
       "    </tr>\n",
       "    <tr>\n",
       "      <th>4</th>\n",
       "      <td>2019-06-20 10:26:08</td>\n",
       "      <td>_melaye good day twitter sir please help retwe...</td>\n",
       "      <td>0.700000</td>\n",
       "    </tr>\n",
       "    <tr>\n",
       "      <th>5</th>\n",
       "      <td>2019-06-20 10:26:02</td>\n",
       "      <td>_ifrit :party_popper::party_popper:the weapon ...</td>\n",
       "      <td>0.250000</td>\n",
       "    </tr>\n",
       "    <tr>\n",
       "      <th>6</th>\n",
       "      <td>2019-06-20 10:16:45</td>\n",
       "      <td>_adri plop</td>\n",
       "      <td>0.000000</td>\n",
       "    </tr>\n",
       "    <tr>\n",
       "      <th>7</th>\n",
       "      <td>2019-06-20 09:28:04</td>\n",
       "      <td>game of thrones</td>\n",
       "      <td>-0.400000</td>\n",
       "    </tr>\n",
       "    <tr>\n",
       "      <th>8</th>\n",
       "      <td>2019-06-20 09:11:59</td>\n",
       "      <td>it is a trick a shadow on the wall and a very ...</td>\n",
       "      <td>-0.023214</td>\n",
       "    </tr>\n",
       "    <tr>\n",
       "      <th>9</th>\n",
       "      <td>2019-06-20 07:57:16</td>\n",
       "      <td>and yes i cried when rhaegal and viserion died...</td>\n",
       "      <td>0.091667</td>\n",
       "    </tr>\n",
       "    <tr>\n",
       "      <th>10</th>\n",
       "      <td>2019-06-20 07:53:50</td>\n",
       "      <td>why has it just dawned on me that missandei's ...</td>\n",
       "      <td>-0.260185</td>\n",
       "    </tr>\n",
       "    <tr>\n",
       "      <th>11</th>\n",
       "      <td>2019-06-20 07:53:05</td>\n",
       "      <td>guess we should celebrate the final episode of...</td>\n",
       "      <td>0.000000</td>\n",
       "    </tr>\n",
       "    <tr>\n",
       "      <th>12</th>\n",
       "      <td>2019-06-20 07:15:51</td>\n",
       "      <td>share your location see others location find &amp;...</td>\n",
       "      <td>0.100000</td>\n",
       "    </tr>\n",
       "    <tr>\n",
       "      <th>13</th>\n",
       "      <td>2019-06-20 07:12:15</td>\n",
       "      <td>i've heard many people saying that was disappo...</td>\n",
       "      <td>0.225000</td>\n",
       "    </tr>\n",
       "    <tr>\n",
       "      <th>14</th>\n",
       "      <td>2019-06-20 06:49:58</td>\n",
       "      <td>bereket is coming</td>\n",
       "      <td>0.000000</td>\n",
       "    </tr>\n",
       "    <tr>\n",
       "      <th>15</th>\n",
       "      <td>2019-06-20 06:16:28</td>\n",
       "      <td>wait what makers deleted 's miscarriage scene ...</td>\n",
       "      <td>0.000000</td>\n",
       "    </tr>\n",
       "    <tr>\n",
       "      <th>16</th>\n",
       "      <td>2019-06-20 06:04:04</td>\n",
       "      <td>spoiler warning for last episode lowkey who el...</td>\n",
       "      <td>0.350000</td>\n",
       "    </tr>\n",
       "    <tr>\n",
       "      <th>17</th>\n",
       "      <td>2019-06-20 06:03:03</td>\n",
       "      <td>people had incredibly divided reactions to the...</td>\n",
       "      <td>0.250000</td>\n",
       "    </tr>\n",
       "    <tr>\n",
       "      <th>18</th>\n",
       "      <td>2019-06-20 05:50:11</td>\n",
       "      <td>all of them died for nothing</td>\n",
       "      <td>0.000000</td>\n",
       "    </tr>\n",
       "    <tr>\n",
       "      <th>19</th>\n",
       "      <td>2019-06-20 05:39:28</td>\n",
       "      <td>as everyone is been saying arya went west jon ...</td>\n",
       "      <td>0.000000</td>\n",
       "    </tr>\n",
       "    <tr>\n",
       "      <th>20</th>\n",
       "      <td>2019-06-20 05:32:24</td>\n",
       "      <td>guess we should celebrate the final episode of...</td>\n",
       "      <td>0.000000</td>\n",
       "    </tr>\n",
       "    <tr>\n",
       "      <th>21</th>\n",
       "      <td>2019-06-20 05:28:02</td>\n",
       "      <td>power of stories | tyrion lannister | tedxking...</td>\n",
       "      <td>0.000000</td>\n",
       "    </tr>\n",
       "    <tr>\n",
       "      <th>22</th>\n",
       "      <td>2019-06-20 05:25:29</td>\n",
       "      <td>killing daenerys is not the end of everything ...</td>\n",
       "      <td>0.705000</td>\n",
       "    </tr>\n",
       "    <tr>\n",
       "      <th>23</th>\n",
       "      <td>2019-06-20 05:18:06</td>\n",
       "      <td>everybody let us say thank you to the best cas...</td>\n",
       "      <td>1.000000</td>\n",
       "    </tr>\n",
       "    <tr>\n",
       "      <th>24</th>\n",
       "      <td>2019-06-20 05:14:00</td>\n",
       "      <td>__doe right fans were (and still are) full on ...</td>\n",
       "      <td>0.317857</td>\n",
       "    </tr>\n",
       "    <tr>\n",
       "      <th>25</th>\n",
       "      <td>2019-06-20 05:05:31</td>\n",
       "      <td>kindly help retweet until he sees it coloured ...</td>\n",
       "      <td>0.100000</td>\n",
       "    </tr>\n",
       "    <tr>\n",
       "      <th>26</th>\n",
       "      <td>2019-06-20 04:51:01</td>\n",
       "      <td>_me_elliee turns out jon snow really did know ...</td>\n",
       "      <td>0.200000</td>\n",
       "    </tr>\n",
       "    <tr>\n",
       "      <th>27</th>\n",
       "      <td>2019-06-20 04:16:06</td>\n",
       "      <td>do the geneva conventions apply in westeros fo...</td>\n",
       "      <td>0.000000</td>\n",
       "    </tr>\n",
       "    <tr>\n",
       "      <th>28</th>\n",
       "      <td>2019-06-20 04:11:17</td>\n",
       "      <td>say what you will about the the john hughes ho...</td>\n",
       "      <td>0.333333</td>\n",
       "    </tr>\n",
       "    <tr>\n",
       "      <th>29</th>\n",
       "      <td>2019-06-20 04:05:03</td>\n",
       "      <td>dissapointing pero award winning pa rin naman ...</td>\n",
       "      <td>0.500000</td>\n",
       "    </tr>\n",
       "    <tr>\n",
       "      <th>...</th>\n",
       "      <td>...</td>\n",
       "      <td>...</td>\n",
       "      <td>...</td>\n",
       "    </tr>\n",
       "    <tr>\n",
       "      <th>375</th>\n",
       "      <td>2019-06-16 04:02:43</td>\n",
       "      <td>_ this guy just perfected the game of thrones ...</td>\n",
       "      <td>-0.125000</td>\n",
       "    </tr>\n",
       "    <tr>\n",
       "      <th>376</th>\n",
       "      <td>2019-06-16 03:48:59</td>\n",
       "      <td>they really just gave bran who is the weird as...</td>\n",
       "      <td>0.050000</td>\n",
       "    </tr>\n",
       "    <tr>\n",
       "      <th>377</th>\n",
       "      <td>2019-06-16 03:42:25</td>\n",
       "      <td>_ this guy just perfected the game of thrones ...</td>\n",
       "      <td>-0.216667</td>\n",
       "    </tr>\n",
       "    <tr>\n",
       "      <th>378</th>\n",
       "      <td>2019-06-16 03:24:10</td>\n",
       "      <td>my dramatic ass getting of the sofa when finis...</td>\n",
       "      <td>-0.400000</td>\n",
       "    </tr>\n",
       "    <tr>\n",
       "      <th>379</th>\n",
       "      <td>2019-06-16 03:10:04</td>\n",
       "      <td>_sith305 game of thrones night king and theon ...</td>\n",
       "      <td>0.200000</td>\n",
       "    </tr>\n",
       "    <tr>\n",
       "      <th>380</th>\n",
       "      <td>2019-06-16 03:00:10</td>\n",
       "      <td>fist bump :right-facing_fist::left-facing_fist...</td>\n",
       "      <td>0.000000</td>\n",
       "    </tr>\n",
       "    <tr>\n",
       "      <th>381</th>\n",
       "      <td>2019-06-16 01:57:55</td>\n",
       "      <td>queen in the north</td>\n",
       "      <td>-0.400000</td>\n",
       "    </tr>\n",
       "    <tr>\n",
       "      <th>382</th>\n",
       "      <td>2019-06-16 01:57:05</td>\n",
       "      <td>_sith305 game of thrones night king and theon ...</td>\n",
       "      <td>0.416667</td>\n",
       "    </tr>\n",
       "    <tr>\n",
       "      <th>383</th>\n",
       "      <td>2019-06-16 01:37:29</td>\n",
       "      <td>when tyrion named bran the most worthy leader ...</td>\n",
       "      <td>0.000000</td>\n",
       "    </tr>\n",
       "    <tr>\n",
       "      <th>384</th>\n",
       "      <td>2019-06-16 01:27:16</td>\n",
       "      <td>have apple pay cash set up :question_mark: fli...</td>\n",
       "      <td>-0.021212</td>\n",
       "    </tr>\n",
       "    <tr>\n",
       "      <th>385</th>\n",
       "      <td>2019-06-16 01:24:03</td>\n",
       "      <td>do not mind me i'm just crying hearing the the...</td>\n",
       "      <td>0.000000</td>\n",
       "    </tr>\n",
       "    <tr>\n",
       "      <th>386</th>\n",
       "      <td>2019-06-16 00:56:12</td>\n",
       "      <td>samwell tarly democracy everyone else</td>\n",
       "      <td>-0.400000</td>\n",
       "    </tr>\n",
       "    <tr>\n",
       "      <th>388</th>\n",
       "      <td>2019-06-16 00:08:58</td>\n",
       "      <td>_sith305 game of thrones night king and theon ...</td>\n",
       "      <td>-0.100000</td>\n",
       "    </tr>\n",
       "    <tr>\n",
       "      <th>389</th>\n",
       "      <td>2019-06-15 23:41:58</td>\n",
       "      <td>endgame really i do not think so _</td>\n",
       "      <td>0.200000</td>\n",
       "    </tr>\n",
       "    <tr>\n",
       "      <th>390</th>\n",
       "      <td>2019-06-15 23:34:57</td>\n",
       "      <td>really</td>\n",
       "      <td>0.000000</td>\n",
       "    </tr>\n",
       "    <tr>\n",
       "      <th>392</th>\n",
       "      <td>2019-06-15 23:30:58</td>\n",
       "      <td>direwolf bread :face_with_tears_of_joy::face_w...</td>\n",
       "      <td>-0.400000</td>\n",
       "    </tr>\n",
       "    <tr>\n",
       "      <th>394</th>\n",
       "      <td>2019-06-15 23:19:26</td>\n",
       "      <td>_sith305 game of thrones night king and theon ...</td>\n",
       "      <td>0.000000</td>\n",
       "    </tr>\n",
       "    <tr>\n",
       "      <th>395</th>\n",
       "      <td>2019-06-15 23:16:28</td>\n",
       "      <td>the and reaction to it got me thinking about a...</td>\n",
       "      <td>-0.400000</td>\n",
       "    </tr>\n",
       "    <tr>\n",
       "      <th>396</th>\n",
       "      <td>2019-06-15 23:09:15</td>\n",
       "      <td>game of thrones night king and theon recreatio...</td>\n",
       "      <td>-0.167857</td>\n",
       "    </tr>\n",
       "    <tr>\n",
       "      <th>397</th>\n",
       "      <td>2019-06-15 22:59:03</td>\n",
       "      <td>this is single handedly the most bad ass scene...</td>\n",
       "      <td>0.050000</td>\n",
       "    </tr>\n",
       "    <tr>\n",
       "      <th>398</th>\n",
       "      <td>2019-06-15 22:42:10</td>\n",
       "      <td>_ this guy just perfected the game of thrones ...</td>\n",
       "      <td>0.100000</td>\n",
       "    </tr>\n",
       "    <tr>\n",
       "      <th>399</th>\n",
       "      <td>2019-06-15 22:17:17</td>\n",
       "      <td>\"bend the knee\" daenarys targarayan \"winter is...</td>\n",
       "      <td>0.000000</td>\n",
       "    </tr>\n",
       "    <tr>\n",
       "      <th>400</th>\n",
       "      <td>2019-06-15 22:16:46</td>\n",
       "      <td>the and reaction to it got me thinking about a...</td>\n",
       "      <td>0.100000</td>\n",
       "    </tr>\n",
       "    <tr>\n",
       "      <th>401</th>\n",
       "      <td>2019-06-15 22:05:11</td>\n",
       "      <td>\"bend the knee\" daenarys targarayan \"winter is...</td>\n",
       "      <td>0.000000</td>\n",
       "    </tr>\n",
       "    <tr>\n",
       "      <th>403</th>\n",
       "      <td>2019-06-15 21:53:02</td>\n",
       "      <td>the mother of dragons</td>\n",
       "      <td>0.160000</td>\n",
       "    </tr>\n",
       "    <tr>\n",
       "      <th>404</th>\n",
       "      <td>2019-06-15 21:52:02</td>\n",
       "      <td>_j jamie lannister's kingslayer level is so hi...</td>\n",
       "      <td>0.100000</td>\n",
       "    </tr>\n",
       "    <tr>\n",
       "      <th>405</th>\n",
       "      <td>2019-06-15 21:45:04</td>\n",
       "      <td>\"bend the knee\" daenarys targarayan \"winter is...</td>\n",
       "      <td>0.050000</td>\n",
       "    </tr>\n",
       "    <tr>\n",
       "      <th>406</th>\n",
       "      <td>2019-06-15 21:42:21</td>\n",
       "      <td>_ this guy just perfected the game of thrones ...</td>\n",
       "      <td>-0.244444</td>\n",
       "    </tr>\n",
       "    <tr>\n",
       "      <th>407</th>\n",
       "      <td>2019-06-15 21:25:09</td>\n",
       "      <td>meet my cat venom sitting there like he does n...</td>\n",
       "      <td>-0.187500</td>\n",
       "    </tr>\n",
       "    <tr>\n",
       "      <th>409</th>\n",
       "      <td>2019-06-15 20:51:30</td>\n",
       "      <td>d&amp;d are just 2 talentless little dickheads who...</td>\n",
       "      <td>0.000000</td>\n",
       "    </tr>\n",
       "  </tbody>\n",
       "</table>\n",
       "<p>744 rows × 3 columns</p>\n",
       "</div>"
      ],
      "text/plain": [
       "                    date                                               text  \\\n",
       "0    2019-06-20 10:43:00  everybody let us say thank you to the best cas...   \n",
       "1    2019-06-20 10:38:52  rip two of the most interesting characters gam...   \n",
       "2    2019-06-20 10:28:58  throwback to one of the best frames that ever ...   \n",
       "3    2019-06-20 10:27:51  hale and hearty has reportedly returned home f...   \n",
       "4    2019-06-20 10:26:08  _melaye good day twitter sir please help retwe...   \n",
       "5    2019-06-20 10:26:02  _ifrit :party_popper::party_popper:the weapon ...   \n",
       "6    2019-06-20 10:16:45                                         _adri plop   \n",
       "7    2019-06-20 09:28:04                                    game of thrones   \n",
       "8    2019-06-20 09:11:59  it is a trick a shadow on the wall and a very ...   \n",
       "9    2019-06-20 07:57:16  and yes i cried when rhaegal and viserion died...   \n",
       "10   2019-06-20 07:53:50  why has it just dawned on me that missandei's ...   \n",
       "11   2019-06-20 07:53:05  guess we should celebrate the final episode of...   \n",
       "12   2019-06-20 07:15:51  share your location see others location find &...   \n",
       "13   2019-06-20 07:12:15  i've heard many people saying that was disappo...   \n",
       "14   2019-06-20 06:49:58                                  bereket is coming   \n",
       "15   2019-06-20 06:16:28  wait what makers deleted 's miscarriage scene ...   \n",
       "16   2019-06-20 06:04:04  spoiler warning for last episode lowkey who el...   \n",
       "17   2019-06-20 06:03:03  people had incredibly divided reactions to the...   \n",
       "18   2019-06-20 05:50:11                       all of them died for nothing   \n",
       "19   2019-06-20 05:39:28  as everyone is been saying arya went west jon ...   \n",
       "20   2019-06-20 05:32:24  guess we should celebrate the final episode of...   \n",
       "21   2019-06-20 05:28:02  power of stories | tyrion lannister | tedxking...   \n",
       "22   2019-06-20 05:25:29  killing daenerys is not the end of everything ...   \n",
       "23   2019-06-20 05:18:06  everybody let us say thank you to the best cas...   \n",
       "24   2019-06-20 05:14:00  __doe right fans were (and still are) full on ...   \n",
       "25   2019-06-20 05:05:31  kindly help retweet until he sees it coloured ...   \n",
       "26   2019-06-20 04:51:01  _me_elliee turns out jon snow really did know ...   \n",
       "27   2019-06-20 04:16:06  do the geneva conventions apply in westeros fo...   \n",
       "28   2019-06-20 04:11:17  say what you will about the the john hughes ho...   \n",
       "29   2019-06-20 04:05:03  dissapointing pero award winning pa rin naman ...   \n",
       "..                   ...                                                ...   \n",
       "375  2019-06-16 04:02:43  _ this guy just perfected the game of thrones ...   \n",
       "376  2019-06-16 03:48:59  they really just gave bran who is the weird as...   \n",
       "377  2019-06-16 03:42:25  _ this guy just perfected the game of thrones ...   \n",
       "378  2019-06-16 03:24:10  my dramatic ass getting of the sofa when finis...   \n",
       "379  2019-06-16 03:10:04  _sith305 game of thrones night king and theon ...   \n",
       "380  2019-06-16 03:00:10  fist bump :right-facing_fist::left-facing_fist...   \n",
       "381  2019-06-16 01:57:55                                 queen in the north   \n",
       "382  2019-06-16 01:57:05  _sith305 game of thrones night king and theon ...   \n",
       "383  2019-06-16 01:37:29  when tyrion named bran the most worthy leader ...   \n",
       "384  2019-06-16 01:27:16  have apple pay cash set up :question_mark: fli...   \n",
       "385  2019-06-16 01:24:03  do not mind me i'm just crying hearing the the...   \n",
       "386  2019-06-16 00:56:12              samwell tarly democracy everyone else   \n",
       "388  2019-06-16 00:08:58  _sith305 game of thrones night king and theon ...   \n",
       "389  2019-06-15 23:41:58                 endgame really i do not think so _   \n",
       "390  2019-06-15 23:34:57                                             really   \n",
       "392  2019-06-15 23:30:58  direwolf bread :face_with_tears_of_joy::face_w...   \n",
       "394  2019-06-15 23:19:26  _sith305 game of thrones night king and theon ...   \n",
       "395  2019-06-15 23:16:28  the and reaction to it got me thinking about a...   \n",
       "396  2019-06-15 23:09:15  game of thrones night king and theon recreatio...   \n",
       "397  2019-06-15 22:59:03  this is single handedly the most bad ass scene...   \n",
       "398  2019-06-15 22:42:10  _ this guy just perfected the game of thrones ...   \n",
       "399  2019-06-15 22:17:17  \"bend the knee\" daenarys targarayan \"winter is...   \n",
       "400  2019-06-15 22:16:46  the and reaction to it got me thinking about a...   \n",
       "401  2019-06-15 22:05:11  \"bend the knee\" daenarys targarayan \"winter is...   \n",
       "403  2019-06-15 21:53:02                              the mother of dragons   \n",
       "404  2019-06-15 21:52:02  _j jamie lannister's kingslayer level is so hi...   \n",
       "405  2019-06-15 21:45:04  \"bend the knee\" daenarys targarayan \"winter is...   \n",
       "406  2019-06-15 21:42:21  _ this guy just perfected the game of thrones ...   \n",
       "407  2019-06-15 21:25:09  meet my cat venom sitting there like he does n...   \n",
       "409  2019-06-15 20:51:30  d&d are just 2 talentless little dickheads who...   \n",
       "\n",
       "     sentiment  \n",
       "0     1.000000  \n",
       "1     0.162500  \n",
       "2     1.000000  \n",
       "3     0.000000  \n",
       "4     0.700000  \n",
       "5     0.250000  \n",
       "6     0.000000  \n",
       "7    -0.400000  \n",
       "8    -0.023214  \n",
       "9     0.091667  \n",
       "10   -0.260185  \n",
       "11    0.000000  \n",
       "12    0.100000  \n",
       "13    0.225000  \n",
       "14    0.000000  \n",
       "15    0.000000  \n",
       "16    0.350000  \n",
       "17    0.250000  \n",
       "18    0.000000  \n",
       "19    0.000000  \n",
       "20    0.000000  \n",
       "21    0.000000  \n",
       "22    0.705000  \n",
       "23    1.000000  \n",
       "24    0.317857  \n",
       "25    0.100000  \n",
       "26    0.200000  \n",
       "27    0.000000  \n",
       "28    0.333333  \n",
       "29    0.500000  \n",
       "..         ...  \n",
       "375  -0.125000  \n",
       "376   0.050000  \n",
       "377  -0.216667  \n",
       "378  -0.400000  \n",
       "379   0.200000  \n",
       "380   0.000000  \n",
       "381  -0.400000  \n",
       "382   0.416667  \n",
       "383   0.000000  \n",
       "384  -0.021212  \n",
       "385   0.000000  \n",
       "386  -0.400000  \n",
       "388  -0.100000  \n",
       "389   0.200000  \n",
       "390   0.000000  \n",
       "392  -0.400000  \n",
       "394   0.000000  \n",
       "395  -0.400000  \n",
       "396  -0.167857  \n",
       "397   0.050000  \n",
       "398   0.100000  \n",
       "399   0.000000  \n",
       "400   0.100000  \n",
       "401   0.000000  \n",
       "403   0.160000  \n",
       "404   0.100000  \n",
       "405   0.050000  \n",
       "406  -0.244444  \n",
       "407  -0.187500  \n",
       "409   0.000000  \n",
       "\n",
       "[744 rows x 3 columns]"
      ]
     },
     "execution_count": 33,
     "metadata": {},
     "output_type": "execute_result"
    }
   ],
   "source": [
    "# Remove all rows containing sentyment == 0.0. Remove duplicates and rows with NaN.\n",
    "twitter_df.shape\n",
    "twitter_df.drop_duplicates(inplace=True)\n",
    "twitter_df.dropna()"
   ]
  },
  {
   "cell_type": "code",
   "execution_count": 34,
   "metadata": {},
   "outputs": [
    {
     "data": {
      "text/plain": [
       "(519, 3)"
      ]
     },
     "execution_count": 34,
     "metadata": {},
     "output_type": "execute_result"
    }
   ],
   "source": [
    "twitter_df = twitter_df[twitter_df['sentiment']!=0.0]\n",
    "twitter_df.shape"
   ]
  },
  {
   "cell_type": "code",
   "execution_count": 35,
   "metadata": {},
   "outputs": [
    {
     "data": {
      "text/plain": [
       "(331, 3)"
      ]
     },
     "execution_count": 35,
     "metadata": {},
     "output_type": "execute_result"
    }
   ],
   "source": [
    "# Calculate the number of rows with positive and negative sentiment, calculate the percentage\n",
    "\n",
    "twitter_df[twitter_df['sentiment'] > 0].shape"
   ]
  },
  {
   "cell_type": "code",
   "execution_count": 36,
   "metadata": {},
   "outputs": [
    {
     "data": {
      "text/plain": [
       "(188, 3)"
      ]
     },
     "execution_count": 36,
     "metadata": {},
     "output_type": "execute_result"
    }
   ],
   "source": [
    "twitter_df[twitter_df['sentiment'] < 0].shape"
   ]
  },
  {
   "cell_type": "code",
   "execution_count": 37,
   "metadata": {},
   "outputs": [
    {
     "name": "stdout",
     "output_type": "stream",
     "text": [
      "positive sentiment = 63.78 %\n",
      "negative sentiment = 36.22 %\n"
     ]
    }
   ],
   "source": [
    "positive_sent = 331/519*100\n",
    "negative_sent = 188/519*100\n",
    "print('positive sentiment =', round(positive_sent,2), '%') \n",
    "print('negative sentiment =', round(negative_sent,2), '%')"
   ]
  },
  {
   "cell_type": "code",
   "execution_count": 38,
   "metadata": {},
   "outputs": [
    {
     "data": {
      "text/html": [
       "<div>\n",
       "<style scoped>\n",
       "    .dataframe tbody tr th:only-of-type {\n",
       "        vertical-align: middle;\n",
       "    }\n",
       "\n",
       "    .dataframe tbody tr th {\n",
       "        vertical-align: top;\n",
       "    }\n",
       "\n",
       "    .dataframe thead th {\n",
       "        text-align: right;\n",
       "    }\n",
       "</style>\n",
       "<table border=\"1\" class=\"dataframe\">\n",
       "  <thead>\n",
       "    <tr style=\"text-align: right;\">\n",
       "      <th></th>\n",
       "      <th>date</th>\n",
       "      <th>text</th>\n",
       "      <th>sentiment</th>\n",
       "    </tr>\n",
       "    <tr>\n",
       "      <th>sentiment</th>\n",
       "      <th></th>\n",
       "      <th></th>\n",
       "      <th></th>\n",
       "    </tr>\n",
       "  </thead>\n",
       "  <tbody>\n",
       "    <tr>\n",
       "      <th>(-1.0, -0.8]</th>\n",
       "      <td>0</td>\n",
       "      <td>0</td>\n",
       "      <td>0</td>\n",
       "    </tr>\n",
       "    <tr>\n",
       "      <th>(-0.8, -0.6]</th>\n",
       "      <td>4</td>\n",
       "      <td>4</td>\n",
       "      <td>4</td>\n",
       "    </tr>\n",
       "    <tr>\n",
       "      <th>(-0.6, -0.4]</th>\n",
       "      <td>16</td>\n",
       "      <td>16</td>\n",
       "      <td>16</td>\n",
       "    </tr>\n",
       "    <tr>\n",
       "      <th>(-0.4, -0.2]</th>\n",
       "      <td>102</td>\n",
       "      <td>102</td>\n",
       "      <td>102</td>\n",
       "    </tr>\n",
       "    <tr>\n",
       "      <th>(-0.2, -2.22e-16]</th>\n",
       "      <td>66</td>\n",
       "      <td>66</td>\n",
       "      <td>66</td>\n",
       "    </tr>\n",
       "    <tr>\n",
       "      <th>(-2.22e-16, 0.2]</th>\n",
       "      <td>115</td>\n",
       "      <td>115</td>\n",
       "      <td>115</td>\n",
       "    </tr>\n",
       "    <tr>\n",
       "      <th>(0.2, 0.4]</th>\n",
       "      <td>121</td>\n",
       "      <td>121</td>\n",
       "      <td>121</td>\n",
       "    </tr>\n",
       "    <tr>\n",
       "      <th>(0.4, 0.6]</th>\n",
       "      <td>51</td>\n",
       "      <td>51</td>\n",
       "      <td>51</td>\n",
       "    </tr>\n",
       "    <tr>\n",
       "      <th>(0.6, 0.8]</th>\n",
       "      <td>16</td>\n",
       "      <td>16</td>\n",
       "      <td>16</td>\n",
       "    </tr>\n",
       "    <tr>\n",
       "      <th>(0.8, 1.0]</th>\n",
       "      <td>8</td>\n",
       "      <td>8</td>\n",
       "      <td>8</td>\n",
       "    </tr>\n",
       "  </tbody>\n",
       "</table>\n",
       "</div>"
      ],
      "text/plain": [
       "                   date  text  sentiment\n",
       "sentiment                               \n",
       "(-1.0, -0.8]          0     0          0\n",
       "(-0.8, -0.6]          4     4          4\n",
       "(-0.6, -0.4]         16    16         16\n",
       "(-0.4, -0.2]        102   102        102\n",
       "(-0.2, -2.22e-16]    66    66         66\n",
       "(-2.22e-16, 0.2]    115   115        115\n",
       "(0.2, 0.4]          121   121        121\n",
       "(0.4, 0.6]           51    51         51\n",
       "(0.6, 0.8]           16    16         16\n",
       "(0.8, 1.0]            8     8          8"
      ]
     },
     "execution_count": 38,
     "metadata": {},
     "output_type": "execute_result"
    }
   ],
   "source": [
    "# Calculate N of rows with sentyment in estimated borders. \n",
    "# Use groupby qnd cut functions: https://pandas.pydata.org/pandas-docs/version/0.23.4/generated/pandas.cut.html\n",
    "\n",
    "import numpy as np\n",
    "\n",
    "twitter_df.groupby(pd.cut(twitter_df['sentiment'], np.arange(-1, 1+0.2, 0.2))).count()"
   ]
  },
  {
   "cell_type": "code",
   "execution_count": 39,
   "metadata": {
    "scrolled": true
   },
   "outputs": [
    {
     "data": {
      "text/plain": [
       "(519, 3)"
      ]
     },
     "execution_count": 39,
     "metadata": {},
     "output_type": "execute_result"
    }
   ],
   "source": [
    "twitter_df.shape"
   ]
  },
  {
   "cell_type": "code",
   "execution_count": 40,
   "metadata": {},
   "outputs": [],
   "source": [
    "twitter_df.to_csv('GOT_tweets_cleaned.csv')"
   ]
  },
  {
   "cell_type": "code",
   "execution_count": null,
   "metadata": {},
   "outputs": [],
   "source": []
  }
 ],
 "metadata": {
  "kernelspec": {
   "display_name": "Python 3",
   "language": "python",
   "name": "python3"
  },
  "language_info": {
   "codemirror_mode": {
    "name": "ipython",
    "version": 3
   },
   "file_extension": ".py",
   "mimetype": "text/x-python",
   "name": "python",
   "nbconvert_exporter": "python",
   "pygments_lexer": "ipython3",
   "version": "3.6.2"
  }
 },
 "nbformat": 4,
 "nbformat_minor": 2
}
