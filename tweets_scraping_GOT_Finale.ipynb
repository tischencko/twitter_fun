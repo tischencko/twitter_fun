{
 "cells": [
  {
   "cell_type": "code",
   "execution_count": 2,
   "metadata": {},
   "outputs": [],
   "source": [
    "consumer_key = '5Dyrn4s6llMzjYSYvJmbUAcmU'\n",
    "consumer_secret = 'QGgV43DzwsdPK6VmxCn2MfQYE9Bwss1NDaBN58Wr0puQ8l3EMA'\n",
    "access_token = '320368103-DSCfsickGX663pywN16eBi0BiPU9FlkH1Uv4Cw70'\n",
    "access_token_secret = 'OCLcwKWSov8hXjgzbX3QbtecDAMDOG8DOFaNpSkfrWEcp'"
   ]
  },
  {
   "cell_type": "code",
   "execution_count": 3,
   "metadata": {},
   "outputs": [],
   "source": [
    "import tweepy\n",
    "import pandas as pd\n",
    "import numpy as np"
   ]
  },
  {
   "cell_type": "code",
   "execution_count": 4,
   "metadata": {},
   "outputs": [],
   "source": [
    "auth = tweepy.OAuthHandler(consumer_key, consumer_secret)\n",
    "auth.set_access_token(access_token, access_token_secret)\n",
    "api = tweepy.API(auth,wait_on_rate_limit=True)"
   ]
  },
  {
   "cell_type": "code",
   "execution_count": 5,
   "metadata": {},
   "outputs": [],
   "source": [
    "# Preparing dictionary for data collection\n",
    "tweets = {'date': [], 'text': []}"
   ]
  },
  {
   "cell_type": "code",
   "execution_count": 6,
   "metadata": {},
   "outputs": [],
   "source": [
    "# Using for loop collecting data to our dictionary\n",
    "for tweet in tweepy.Cursor(api.search,q=\"#GameOfThronesFinale\",count=10,\n",
    "                           lang=\"en\",\n",
    "                           since=\"2019-05-20\", tweet_mode='extended').items():\n",
    "    tweets['date'].append(tweet.created_at)\n",
    "    tweets['text'].append(tweet.full_text) "
   ]
  },
  {
   "cell_type": "code",
   "execution_count": 7,
   "metadata": {},
   "outputs": [],
   "source": [
    "# F-on that for a given query from a given data collect tweets to dictionary and return it. Count can be fixed at 10.\n",
    "def collect_tweets(query, start_date):\n",
    "    tweets = {'date': [], 'text': []}\n",
    "    for tweet in tweepy.Cursor(api.search,q=\"#GameOfThronesFinale\",count=10,\n",
    "                           lang=\"en\",\n",
    "                           since=\"2019-05-20\", tweet_mode='extended').items():\n",
    "        tweets['date'].append(tweet.created_at)\n",
    "        tweets['text'].append(tweet.full_text)\n",
    "    return tweets"
   ]
  },
  {
   "cell_type": "code",
   "execution_count": 8,
   "metadata": {},
   "outputs": [],
   "source": [
    "# Different requests on #GameOfThronesFinale or #GameOfThronesSeason8.\n",
    "tweets1 = collect_tweets(query = '#GameOfThronesFinale', start_date = \"2019-05-20\")\n",
    "tweets2 = collect_tweets(query = '#GameOfThronesSeason8', start_date = \"2019-05-20\")"
   ]
  },
  {
   "cell_type": "code",
   "execution_count": 1,
   "metadata": {},
   "outputs": [],
   "source": [
    "# Zadanie * Zapoznaj się z dokumentacją pakietu newspaper3k: https://pypi.org/project/newspaper3k/ Jest to pakiet, który służy do pobierania tekstu ze stron internetowych z wiadomościami.\n",
    "# Znajdź w internecie kilka artykułów na temat sztucznej inteligencji i pobierz tekst tych artykułów przy pomocy pakietu. \n",
    "# Zapisz je na liście i zobacz jak wyglądają.\n",
    "# pip install -q newspaper3k\n",
    "\n",
    "# from newspaper import Article\n",
    "# url = 'https://www.wired.com/story/adversarial-examples-ai-may-not-hallucinate/'\n",
    "# article = Article(url)\n",
    "# article.download()\n",
    "# article.text"
   ]
  },
  {
   "cell_type": "code",
   "execution_count": 9,
   "metadata": {},
   "outputs": [],
   "source": [
    "tweet_df1 = pd.DataFrame(tweets1)\n",
    "tweet_df2 = pd.DataFrame(tweets2)"
   ]
  },
  {
   "cell_type": "code",
   "execution_count": 10,
   "metadata": {},
   "outputs": [],
   "source": [
    "tweet_df = tweet_df1.append(tweet_df2)"
   ]
  },
  {
   "cell_type": "code",
   "execution_count": 11,
   "metadata": {},
   "outputs": [
    {
     "data": {
      "text/html": [
       "<div>\n",
       "<style scoped>\n",
       "    .dataframe tbody tr th:only-of-type {\n",
       "        vertical-align: middle;\n",
       "    }\n",
       "\n",
       "    .dataframe tbody tr th {\n",
       "        vertical-align: top;\n",
       "    }\n",
       "\n",
       "    .dataframe thead th {\n",
       "        text-align: right;\n",
       "    }\n",
       "</style>\n",
       "<table border=\"1\" class=\"dataframe\">\n",
       "  <thead>\n",
       "    <tr style=\"text-align: right;\">\n",
       "      <th></th>\n",
       "      <th>date</th>\n",
       "      <th>text</th>\n",
       "    </tr>\n",
       "  </thead>\n",
       "  <tbody>\n",
       "    <tr>\n",
       "      <th>0</th>\n",
       "      <td>2019-06-18 05:56:33</td>\n",
       "      <td>New Arrival--Game of Thrones 8 Daenerys Targar...</td>\n",
       "    </tr>\n",
       "    <tr>\n",
       "      <th>1</th>\n",
       "      <td>2019-06-18 05:36:58</td>\n",
       "      <td>https://t.co/NPHrBatFog How should #gameofthro...</td>\n",
       "    </tr>\n",
       "    <tr>\n",
       "      <th>2</th>\n",
       "      <td>2019-06-18 05:25:08</td>\n",
       "      <td>RT @bakchodbanker: Desi #GameOfTrones\\n#GameOf...</td>\n",
       "    </tr>\n",
       "    <tr>\n",
       "      <th>3</th>\n",
       "      <td>2019-06-18 04:58:59</td>\n",
       "      <td>Events in entertainment that ended this year: ...</td>\n",
       "    </tr>\n",
       "    <tr>\n",
       "      <th>4</th>\n",
       "      <td>2019-06-18 04:57:43</td>\n",
       "      <td>I can’t top this and that’s the point #drinkin...</td>\n",
       "    </tr>\n",
       "  </tbody>\n",
       "</table>\n",
       "</div>"
      ],
      "text/plain": [
       "                 date                                               text\n",
       "0 2019-06-18 05:56:33  New Arrival--Game of Thrones 8 Daenerys Targar...\n",
       "1 2019-06-18 05:36:58  https://t.co/NPHrBatFog How should #gameofthro...\n",
       "2 2019-06-18 05:25:08  RT @bakchodbanker: Desi #GameOfTrones\\n#GameOf...\n",
       "3 2019-06-18 04:58:59  Events in entertainment that ended this year: ...\n",
       "4 2019-06-18 04:57:43  I can’t top this and that’s the point #drinkin..."
      ]
     },
     "execution_count": 11,
     "metadata": {},
     "output_type": "execute_result"
    }
   ],
   "source": [
    "tweet_df.head()"
   ]
  },
  {
   "cell_type": "code",
   "execution_count": 14,
   "metadata": {},
   "outputs": [],
   "source": [
    "# Prepare list of texts from Twitter for further analisys.\n",
    "# 1 - sellect text coloumn and convert it to list list(coloumn) and assign a new var.\n",
    "# 2 - using list_comprehension or loop preprocess the text removing retweet fragments as RT @thalesgroup\n",
    "# using f-on split(':') and select string fragment Eg: ab:cd.split(:) will return ['ab', 'cd'].\n",
    "\n",
    "tweets_texts = list(tweet_df['text'])\n",
    "tweets_texts = [elem.split(':')[1] for elem in tweets_texts if ':' in elem]\n",
    "tweets_texts = [elem for elem in tweets_texts if '@' not in elem]"
   ]
  },
  {
   "cell_type": "code",
   "execution_count": 16,
   "metadata": {},
   "outputs": [],
   "source": [
    "# Perform sentiment analisys using textblob library. \n",
    "# https://textblob.readthedocs.io/ Najpierw możemy jednak spojrzeć na kilka przykładowych tweetów jaki mają sentyment w Google Cloud Natural Language Processing API. \n",
    "# https://cloud.google.com/natural-language/\n",
    "import random\n",
    "from textblob import TextBlob\n",
    "\n",
    "SEED=42\n",
    "random.seed(SEED)"
   ]
  },
  {
   "cell_type": "code",
   "execution_count": 17,
   "metadata": {},
   "outputs": [
    {
     "name": "stdout",
     "output_type": "stream",
     "text": [
      " Say what you will about the #GameOfThronesFinale, the John Hughes homage was a bold choice to end on. https\n",
      "SENTIMENT: 0.3333333333333333\n",
      " NOW AVAILABLE for your listening enjoyment - THE QUAD M SHOW Ep. 156! Download or stream from your favorite podcast catchi…\n",
      "SENTIMENT: 0.5\n",
      "//t.co/kSmq3EQxkW\n",
      "SENTIMENT: 0.0\n",
      " THE MOTHER OF DRAGONS\n",
      "\n",
      "#GameOfThronesFinale #GameOfThrones https\n",
      "SENTIMENT: 0.0\n",
      " My mood in #GameOfThrones. What are your thoughts on the #GameOfThronesFinale?\n",
      "https\n",
      "SENTIMENT: 0.0\n",
      "//t.co/vMDzG1gaU5\n",
      "SENTIMENT: 0.0\n",
      " “Jaime Lannister is the nastiest skank bitch I’ve ever met. DO NOT TRUST HIM. He is a fugly slut!” #GameOfThronesFinal…\n",
      "SENTIMENT: 0.0\n",
      " Another example of deepfake. This time Jon Snow apologized for season 8 of Game Of Thrones.\n",
      "\n",
      "#GameOfThrones #GameOfThr…\n",
      "SENTIMENT: -0.4\n",
      " \"Bend the knee\"-Daenarys Targarayan\n",
      "\n",
      "\"Winter is coming\"-Jon Snow. \n",
      "\n",
      "\"For the night is dark and is full of terrors\"-Mellisandra…\n",
      "SENTIMENT: 0.09999999999999999\n",
      " Review Game of Thrones\n",
      "SENTIMENT: -0.4\n",
      "//t.co/fJ4ZsQp80V\n",
      "SENTIMENT: 0.0\n",
      " 8 seasons just so Westeros could elect some cereal grain as their next king #GameofThronesFinale\n",
      "SENTIMENT: 0.4\n",
      " 'I Wanted A Better Death' For Cersei https\n",
      "SENTIMENT: 0.5\n",
      " Farewell Game of Thrones. Thank you for 8 years of entertainment! #GameOfThronesFinale\n",
      "SENTIMENT: -0.5\n",
      "//t.co/IQlkJJzGbw\n",
      "SENTIMENT: 0.0\n",
      " Say what you will about the #GameOfThronesFinale, the John Hughes homage was a bold choice to end on. https\n",
      "SENTIMENT: 0.3333333333333333\n",
      " How im about to be for the next 3 months tryin to get over this lack luster finale #gameofthronesfinale #gameofthrones #dem…\n",
      "SENTIMENT: 0.0\n",
      " So basically Jon Snow went through what he had to go through just to get back to what he used to go through😭\n",
      "#GOT #GameOfT…\n",
      "SENTIMENT: 0.0\n",
      " Extra wide teeth comb https\n",
      "SENTIMENT: -0.05\n",
      " Queen in the north!\n",
      "Lots of symbolism here. Chose the colors that mostly represent house Stark. Drawing the armor was th…\n",
      "SENTIMENT: 0.15\n",
      "//t.co/sgspHGew2r\n",
      "SENTIMENT: 0.0\n",
      " Queen in the north!\n",
      "Lots of symbolism here. Chose the colors that mostly represent house Stark. Drawing the armor was th…\n",
      "SENTIMENT: 0.15\n",
      " EVERYBODY LET’S SAY THANK YOU TO THE BEST CAST EVER. \n",
      "\n",
      "#GamefThrones #GameOfThronesFinale \n",
      "#TheFinalEpisode https\n",
      "SENTIMENT: 1.0\n",
      "//t.co/3jnZHR7jIZ\n",
      "SENTIMENT: 0.0\n",
      " My Game of Thrones Series Finale Review https\n",
      "SENTIMENT: -0.4\n",
      "//t.co/IbFiIB7LxO\n",
      "SENTIMENT: 0.0\n",
      "//t.co/qiTUnFMPz4\n",
      "SENTIMENT: 0.0\n",
      " Game of thrones night king and Theon recreation!!!!!! #GameOfThronesFinale #GameofThronesSeason8 #nightking #GameOfThor…\n",
      "SENTIMENT: -1.0\n",
      " EVERYBODY LET’S SAY THANK YOU TO THE BEST CAST EVER. \n",
      "\n",
      "#GamefThrones #GameOfThronesFinale \n",
      "#TheFinalEpisode https\n",
      "SENTIMENT: 1.0\n",
      "//t.co/uaKVLcjOKZ\n",
      "SENTIMENT: 0.0\n"
     ]
    }
   ],
   "source": [
    "sample = random.sample(tweets_texts, 30)\n",
    "for tweet in sample:\n",
    "    tb = TextBlob(tweet)\n",
    "    print(tweet)\n",
    "    print('SENTIMENT: %s' % str(tb.sentiment.polarity)) # \"hello %s\" % (name,) => hello Ela"
   ]
  },
  {
   "cell_type": "code",
   "execution_count": null,
   "metadata": {},
   "outputs": [],
   "source": [
    "# Add a coloumn with sentiment to datatframe with tweets"
   ]
  },
  {
   "cell_type": "code",
   "execution_count": 18,
   "metadata": {},
   "outputs": [
    {
     "data": {
      "text/html": [
       "<div>\n",
       "<style scoped>\n",
       "    .dataframe tbody tr th:only-of-type {\n",
       "        vertical-align: middle;\n",
       "    }\n",
       "\n",
       "    .dataframe tbody tr th {\n",
       "        vertical-align: top;\n",
       "    }\n",
       "\n",
       "    .dataframe thead th {\n",
       "        text-align: right;\n",
       "    }\n",
       "</style>\n",
       "<table border=\"1\" class=\"dataframe\">\n",
       "  <thead>\n",
       "    <tr style=\"text-align: right;\">\n",
       "      <th></th>\n",
       "      <th>date</th>\n",
       "      <th>text</th>\n",
       "      <th>sentiment</th>\n",
       "    </tr>\n",
       "  </thead>\n",
       "  <tbody>\n",
       "    <tr>\n",
       "      <th>0</th>\n",
       "      <td>2019-06-18 05:56:33</td>\n",
       "      <td>New Arrival--Game of Thrones 8 Daenerys Targar...</td>\n",
       "      <td>0.000000</td>\n",
       "    </tr>\n",
       "    <tr>\n",
       "      <th>1</th>\n",
       "      <td>2019-06-18 05:36:58</td>\n",
       "      <td>https://t.co/NPHrBatFog How should #gameofthro...</td>\n",
       "      <td>0.045000</td>\n",
       "    </tr>\n",
       "    <tr>\n",
       "      <th>2</th>\n",
       "      <td>2019-06-18 05:25:08</td>\n",
       "      <td>RT @bakchodbanker: Desi #GameOfTrones\\n#GameOf...</td>\n",
       "      <td>-0.065909</td>\n",
       "    </tr>\n",
       "    <tr>\n",
       "      <th>3</th>\n",
       "      <td>2019-06-18 04:58:59</td>\n",
       "      <td>Events in entertainment that ended this year: ...</td>\n",
       "      <td>0.000000</td>\n",
       "    </tr>\n",
       "    <tr>\n",
       "      <th>4</th>\n",
       "      <td>2019-06-18 04:57:43</td>\n",
       "      <td>I can’t top this and that’s the point #drinkin...</td>\n",
       "      <td>0.000000</td>\n",
       "    </tr>\n",
       "  </tbody>\n",
       "</table>\n",
       "</div>"
      ],
      "text/plain": [
       "                 date                                               text  \\\n",
       "0 2019-06-18 05:56:33  New Arrival--Game of Thrones 8 Daenerys Targar...   \n",
       "1 2019-06-18 05:36:58  https://t.co/NPHrBatFog How should #gameofthro...   \n",
       "2 2019-06-18 05:25:08  RT @bakchodbanker: Desi #GameOfTrones\\n#GameOf...   \n",
       "3 2019-06-18 04:58:59  Events in entertainment that ended this year: ...   \n",
       "4 2019-06-18 04:57:43  I can’t top this and that’s the point #drinkin...   \n",
       "\n",
       "   sentiment  \n",
       "0   0.000000  \n",
       "1   0.045000  \n",
       "2  -0.065909  \n",
       "3   0.000000  \n",
       "4   0.000000  "
      ]
     },
     "execution_count": 18,
     "metadata": {},
     "output_type": "execute_result"
    }
   ],
   "source": [
    "scores = []\n",
    "\n",
    "for tweet in tweets_texts:\n",
    "    tb = TextBlob(tweet)\n",
    "    scores.append(tb.sentiment.polarity)\n",
    "    \n",
    "tweet_df['sentiment'] = pd.Series(scores)\n",
    "tweet_df.head()"
   ]
  },
  {
   "cell_type": "code",
   "execution_count": 19,
   "metadata": {},
   "outputs": [
    {
     "data": {
      "text/plain": [
       "(456, 3)"
      ]
     },
     "execution_count": 19,
     "metadata": {},
     "output_type": "execute_result"
    }
   ],
   "source": [
    "# Remove all rows containing sentyment == 0.0. Remove duplicates and rows with NaN.\n",
    "\n",
    "tweet_df.shape"
   ]
  },
  {
   "cell_type": "code",
   "execution_count": 21,
   "metadata": {},
   "outputs": [
    {
     "data": {
      "text/plain": [
       "(214, 3)"
      ]
     },
     "execution_count": 21,
     "metadata": {},
     "output_type": "execute_result"
    }
   ],
   "source": [
    "tweet_df = tweet_df[tweet_df['sentiment']!=0.0]\n",
    "tweet_df.shape"
   ]
  },
  {
   "cell_type": "code",
   "execution_count": 22,
   "metadata": {},
   "outputs": [
    {
     "data": {
      "text/plain": [
       "(146, 3)"
      ]
     },
     "execution_count": 22,
     "metadata": {},
     "output_type": "execute_result"
    }
   ],
   "source": [
    "# Calculate the number of rows with positive and negative sentiment, calculate the percentage\n",
    "\n",
    "tweet_df[tweet_df['sentiment'] > 0].shape"
   ]
  },
  {
   "cell_type": "code",
   "execution_count": 23,
   "metadata": {},
   "outputs": [
    {
     "data": {
      "text/plain": [
       "(68, 3)"
      ]
     },
     "execution_count": 23,
     "metadata": {},
     "output_type": "execute_result"
    }
   ],
   "source": [
    "tweet_df[tweet_df['sentiment'] < 0].shape"
   ]
  },
  {
   "cell_type": "code",
   "execution_count": 30,
   "metadata": {},
   "outputs": [
    {
     "name": "stdout",
     "output_type": "stream",
     "text": [
      "positive sentiment = \n",
      "68.22\n",
      "positive sentiment = \n",
      "31.78\n"
     ]
    }
   ],
   "source": [
    "positive_sent = 146/214*100\n",
    "negative_sent = 68/214*100\n",
    "print('positive sentiment = ') \n",
    "print(round(positive_sent,2))\n",
    "print('positive sentiment = ')\n",
    "print(round(negative_sent,2))"
   ]
  },
  {
   "cell_type": "code",
   "execution_count": 31,
   "metadata": {},
   "outputs": [
    {
     "data": {
      "text/html": [
       "<div>\n",
       "<style scoped>\n",
       "    .dataframe tbody tr th:only-of-type {\n",
       "        vertical-align: middle;\n",
       "    }\n",
       "\n",
       "    .dataframe tbody tr th {\n",
       "        vertical-align: top;\n",
       "    }\n",
       "\n",
       "    .dataframe thead th {\n",
       "        text-align: right;\n",
       "    }\n",
       "</style>\n",
       "<table border=\"1\" class=\"dataframe\">\n",
       "  <thead>\n",
       "    <tr style=\"text-align: right;\">\n",
       "      <th></th>\n",
       "      <th>date</th>\n",
       "      <th>text</th>\n",
       "      <th>sentiment</th>\n",
       "    </tr>\n",
       "    <tr>\n",
       "      <th>sentiment</th>\n",
       "      <th></th>\n",
       "      <th></th>\n",
       "      <th></th>\n",
       "    </tr>\n",
       "  </thead>\n",
       "  <tbody>\n",
       "    <tr>\n",
       "      <th>(-1.0, -0.8]</th>\n",
       "      <td>0</td>\n",
       "      <td>0</td>\n",
       "      <td>0</td>\n",
       "    </tr>\n",
       "    <tr>\n",
       "      <th>(-0.8, -0.6]</th>\n",
       "      <td>0</td>\n",
       "      <td>0</td>\n",
       "      <td>0</td>\n",
       "    </tr>\n",
       "    <tr>\n",
       "      <th>(-0.6, -0.4]</th>\n",
       "      <td>2</td>\n",
       "      <td>2</td>\n",
       "      <td>2</td>\n",
       "    </tr>\n",
       "    <tr>\n",
       "      <th>(-0.4, -0.2]</th>\n",
       "      <td>20</td>\n",
       "      <td>20</td>\n",
       "      <td>20</td>\n",
       "    </tr>\n",
       "    <tr>\n",
       "      <th>(-0.2, -2.22e-16]</th>\n",
       "      <td>30</td>\n",
       "      <td>30</td>\n",
       "      <td>30</td>\n",
       "    </tr>\n",
       "    <tr>\n",
       "      <th>(-2.22e-16, 0.2]</th>\n",
       "      <td>50</td>\n",
       "      <td>50</td>\n",
       "      <td>50</td>\n",
       "    </tr>\n",
       "    <tr>\n",
       "      <th>(0.2, 0.4]</th>\n",
       "      <td>46</td>\n",
       "      <td>46</td>\n",
       "      <td>46</td>\n",
       "    </tr>\n",
       "    <tr>\n",
       "      <th>(0.4, 0.6]</th>\n",
       "      <td>28</td>\n",
       "      <td>28</td>\n",
       "      <td>28</td>\n",
       "    </tr>\n",
       "    <tr>\n",
       "      <th>(0.6, 0.8]</th>\n",
       "      <td>12</td>\n",
       "      <td>12</td>\n",
       "      <td>12</td>\n",
       "    </tr>\n",
       "    <tr>\n",
       "      <th>(0.8, 1.0]</th>\n",
       "      <td>0</td>\n",
       "      <td>0</td>\n",
       "      <td>0</td>\n",
       "    </tr>\n",
       "  </tbody>\n",
       "</table>\n",
       "</div>"
      ],
      "text/plain": [
       "                   date  text  sentiment\n",
       "sentiment                               \n",
       "(-1.0, -0.8]          0     0          0\n",
       "(-0.8, -0.6]          0     0          0\n",
       "(-0.6, -0.4]          2     2          2\n",
       "(-0.4, -0.2]         20    20         20\n",
       "(-0.2, -2.22e-16]    30    30         30\n",
       "(-2.22e-16, 0.2]     50    50         50\n",
       "(0.2, 0.4]           46    46         46\n",
       "(0.4, 0.6]           28    28         28\n",
       "(0.6, 0.8]           12    12         12\n",
       "(0.8, 1.0]            0     0          0"
      ]
     },
     "execution_count": 31,
     "metadata": {},
     "output_type": "execute_result"
    }
   ],
   "source": [
    "# Calculate N of rows with sentyment in estimated borders. \n",
    "# Use groupby qnd cut functions: https://pandas.pydata.org/pandas-docs/version/0.23.4/generated/pandas.cut.html\n",
    "\n",
    "import numpy as np\n",
    "\n",
    "tweet_df.groupby(pd.cut(tweet_df['sentiment'], np.arange(-1, 1+0.2, 0.2))).count()"
   ]
  },
  {
   "cell_type": "code",
   "execution_count": 32,
   "metadata": {},
   "outputs": [],
   "source": [
    "tweet_df.to_csv('GOT_8season_tweets.csv')"
   ]
  },
  {
   "cell_type": "code",
   "execution_count": null,
   "metadata": {},
   "outputs": [],
   "source": []
  }
 ],
 "metadata": {
  "kernelspec": {
   "display_name": "Python 3",
   "language": "python",
   "name": "python3"
  },
  "language_info": {
   "codemirror_mode": {
    "name": "ipython",
    "version": 3
   },
   "file_extension": ".py",
   "mimetype": "text/x-python",
   "name": "python",
   "nbconvert_exporter": "python",
   "pygments_lexer": "ipython3",
   "version": "3.6.2"
  }
 },
 "nbformat": 4,
 "nbformat_minor": 2
}
