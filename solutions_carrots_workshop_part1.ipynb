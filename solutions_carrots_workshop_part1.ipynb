{
 "cells": [
  {
   "cell_type": "markdown",
   "metadata": {
    "colab_type": "text",
    "id": "pRiHUqF5AvTB"
   },
   "source": [
    "# Geek Girls Carrots workshop - Dzień 1"
   ]
  },
  {
   "cell_type": "markdown",
   "metadata": {
    "colab_type": "text",
    "id": "7V6CJEtsA1qU"
   },
   "source": [
    "## Część 1 - pobranie danych z API Twittera\n",
    "\n",
    "1.   Wejdź na https://developer.twitter.com/\n",
    "2.   Zaloguj się do Twittera albo utwórz konto, jeżeli nie posiadasz\n",
    "3.   https://developer.twitter.com/en/apply-for-access złóż prośbę o developer account\n",
    "4.   Kliknij “Create an app”\n",
    "5.   Wypełnij formularz i kliknij “Create”\n",
    "6.   Pojawi się okienko z zasadami dla developerów. Kliknij jeszcze raz na \"Create\". \n",
    "\n",
    "W celu pobrania danych z Twittera będziemy korzystały z pakietu pythonowego o nazwie tweepy.\n",
    "\n",
    "\n",
    "Dokumentację pakietu można znaleźć pod adresem: http://tweepy.readthedocs.io\n",
    "\n",
    "Do pobrania tweetów potrzebne nam będą klucze dostępu. Po wykonaniu kroków 1-6 wejdźcie na zakładkę Keys and Access Tokens i przekopiujcie \"API key\" oraz \"API secret key\", a także \"Access token\" oraz \"Access secret token\" do poniższych zmiennych.\n",
    "\n"
   ]
  },
  {
   "cell_type": "code",
   "execution_count": 0,
   "metadata": {
    "colab": {},
    "colab_type": "code",
    "id": "Ir0xr5E1relH"
   },
   "outputs": [],
   "source": [
    "consumer_key = ''\n",
    "consumer_secret = ''\n",
    "access_token = ''\n",
    "access_token_secret = ''"
   ]
  },
  {
   "cell_type": "code",
   "execution_count": 0,
   "metadata": {
    "colab": {},
    "colab_type": "code",
    "id": "9H3E-4AUsNg3"
   },
   "outputs": [],
   "source": [
    "import tweepy"
   ]
  },
  {
   "cell_type": "code",
   "execution_count": 0,
   "metadata": {
    "colab": {},
    "colab_type": "code",
    "id": "Q7axlXUosjil"
   },
   "outputs": [],
   "source": [
    "auth = tweepy.OAuthHandler(consumer_key, consumer_secret)\n",
    "auth.set_access_token(access_token, access_token_secret)\n",
    "api = tweepy.API(auth,wait_on_rate_limit=True)"
   ]
  },
  {
   "cell_type": "markdown",
   "metadata": {
    "colab_type": "text",
    "id": "jJMe8tohs3I4"
   },
   "source": [
    "Przygotowujemy słownik, do którego będziemy zbierały dane.\n"
   ]
  },
  {
   "cell_type": "code",
   "execution_count": 0,
   "metadata": {
    "colab": {},
    "colab_type": "code",
    "id": "3zLnl5TLs8hZ"
   },
   "outputs": [],
   "source": [
    "tweets = {'date': [], 'text': []}"
   ]
  },
  {
   "cell_type": "markdown",
   "metadata": {
    "colab_type": "text",
    "id": "6xYipBARtZKJ"
   },
   "source": [
    "Korzystając z pętli for zbieramy dane do naszego słownika."
   ]
  },
  {
   "cell_type": "code",
   "execution_count": 0,
   "metadata": {
    "colab": {},
    "colab_type": "code",
    "id": "fXfTNETCs9Yx"
   },
   "outputs": [],
   "source": [
    "for tweet in tweepy.Cursor(api.search,q=\"#ArtificialIntelligence amazing\",count=10,\n",
    "                           lang=\"en\",\n",
    "                           since=\"2019-04-03\", tweet_mode='extended').items():\n",
    "  tweets['date'].append(tweet.created_at)\n",
    "  tweets['text'].append(tweet.full_text)"
   ]
  },
  {
   "cell_type": "markdown",
   "metadata": {
    "colab_type": "text",
    "id": "3Hf-sbe6uW7Q"
   },
   "source": [
    "**Zadanie**: Napisz funkcję, która dla danego query i od określonej daty zbierze tweety do słownika i zwróci go. parametr count niech będzie ustawiony stale na 10"
   ]
  },
  {
   "cell_type": "code",
   "execution_count": 0,
   "metadata": {
    "colab": {},
    "colab_type": "code",
    "id": "cDhr2Ji2tmDW"
   },
   "outputs": [],
   "source": [
    "def collect_tweets(query, start_date):\n",
    "  tweets = {'date': [], 'text': []}\n",
    "  for tweet in tweepy.Cursor(api.search,q=query,count=10,\n",
    "                           lang=\"en\",\n",
    "                           since=start_date, tweet_mode='extended').items():\n",
    "    tweets['date'].append(tweet.created_at)\n",
    "    tweets['text'].append(tweet.full_text)\n",
    "  return tweets"
   ]
  },
  {
   "cell_type": "markdown",
   "metadata": {
    "colab_type": "text",
    "id": "TgD8Thlov8Qa"
   },
   "source": [
    "**Zadanie:** Zbierz dane dla kilku różnych zapytań na temat sztucznej inteligencji, przykładowo '#ArtificialIntelligence threat', '#ArtificialIntelligence amazing'."
   ]
  },
  {
   "cell_type": "code",
   "execution_count": 0,
   "metadata": {
    "colab": {},
    "colab_type": "code",
    "id": "DOOptcHcv4J2"
   },
   "outputs": [],
   "source": [
    "tweets1 = collect_tweets(query=\"#ArtificialIntelligence amazing\", start_date=\"2019-04-03\")\n",
    "tweets2 = collect_tweets(query=\"#ArtificialIntelligence threat\", start_date=\"2019-04-03\")"
   ]
  },
  {
   "cell_type": "markdown",
   "metadata": {
    "colab_type": "text",
    "id": "T1UJ_ziMzByq"
   },
   "source": [
    "**Zadanie *** Zapoznaj się z dokumentacją pakietu newspaper3k: https://pypi.org/project/newspaper3k/\n",
    "Jest to pakiet, który służy do pobierania tekstu ze stron internetowych z wiadomościami. Znajdź w internecie kilka artykułów na temat sztucznej inteligencji i pobierz tekst tych artykułów przy pomocy pakietu. Zapisz je na liście i zobacz jak wyglądają.\n"
   ]
  },
  {
   "cell_type": "code",
   "execution_count": 0,
   "metadata": {
    "colab": {
     "base_uri": "https://localhost:8080/",
     "height": 153
    },
    "colab_type": "code",
    "id": "5LOCyUfaZif5",
    "outputId": "b5a98920-e516-4ec1-82b8-d561d353e0a5"
   },
   "outputs": [
    {
     "name": "stdout",
     "output_type": "stream",
     "text": [
      "\u001b[K     |████████████████████████████████| 215kB 4.9MB/s \n",
      "\u001b[K     |████████████████████████████████| 51kB 19.4MB/s \n",
      "\u001b[K     |████████████████████████████████| 7.4MB 40.8MB/s \n",
      "\u001b[K     |████████████████████████████████| 194kB 44.2MB/s \n",
      "\u001b[?25h  Building wheel for jieba3k (setup.py) ... \u001b[?25l\u001b[?25hdone\n",
      "  Building wheel for tinysegmenter (setup.py) ... \u001b[?25l\u001b[?25hdone\n",
      "  Building wheel for feedparser (setup.py) ... \u001b[?25l\u001b[?25hdone\n",
      "  Building wheel for feedfinder2 (setup.py) ... \u001b[?25l\u001b[?25hdone\n"
     ]
    }
   ],
   "source": [
    "!pip install -q newspaper3k"
   ]
  },
  {
   "cell_type": "code",
   "execution_count": 0,
   "metadata": {
    "colab": {},
    "colab_type": "code",
    "id": "o1nJ9YExZb6X"
   },
   "outputs": [],
   "source": [
    "from newspaper import Article\n",
    "\n",
    "url = 'https://www.wired.com/story/adversarial-examples-ai-may-not-hallucinate/'\n",
    "article = Article(url)"
   ]
  },
  {
   "cell_type": "code",
   "execution_count": 0,
   "metadata": {
    "colab": {},
    "colab_type": "code",
    "id": "gmoWs3I1Z2lC"
   },
   "outputs": [],
   "source": [
    "article.download()"
   ]
  },
  {
   "cell_type": "code",
   "execution_count": 0,
   "metadata": {
    "colab": {
     "base_uri": "https://localhost:8080/",
     "height": 34
    },
    "colab_type": "code",
    "id": "VBIv8MV5aGby",
    "outputId": "aea6d403-4e54-4925-ba94-f57c13f510e4"
   },
   "outputs": [
    {
     "data": {
      "text/plain": [
       "''"
      ]
     },
     "execution_count": 162,
     "metadata": {
      "tags": []
     },
     "output_type": "execute_result"
    }
   ],
   "source": [
    "article.text"
   ]
  },
  {
   "cell_type": "markdown",
   "metadata": {
    "colab_type": "text",
    "id": "RyOVn27NM3xt"
   },
   "source": [
    "##  Część 3 - Przygotowanie zbioru danych z Twittera.\n",
    "\n",
    "Korzystając z wiedzy, którą zdobyłyśmy na temat biblioteki pandas zajmiemy się teraz przygotowaniem zbioru danych z Twittera, który jutro posłuży nam do stworzenia modelu machine learningowego."
   ]
  },
  {
   "cell_type": "markdown",
   "metadata": {
    "colab_type": "text",
    "id": "WtXDuGlTNSU6"
   },
   "source": [
    "**Zadanie:** Wczytaj pobrane wcześniej dane z Twittera do DataFrame'ów. Połącz je w jeden duży DataFrame."
   ]
  },
  {
   "cell_type": "code",
   "execution_count": 0,
   "metadata": {
    "colab": {},
    "colab_type": "code",
    "id": "OdUHD7dyMMXf"
   },
   "outputs": [],
   "source": [
    "tweet_df1 = pd.DataFrame(tweets1)\n",
    "tweet_df2 = pd.DataFrame(tweets2)"
   ]
  },
  {
   "cell_type": "code",
   "execution_count": 0,
   "metadata": {
    "colab": {},
    "colab_type": "code",
    "id": "BKa0SAaKNniJ"
   },
   "outputs": [],
   "source": [
    "tweet_df = tweet_df1.append(tweet_df2)"
   ]
  },
  {
   "cell_type": "code",
   "execution_count": 0,
   "metadata": {
    "colab": {
     "base_uri": "https://localhost:8080/",
     "height": 204
    },
    "colab_type": "code",
    "id": "Lab6OLR6N9dY",
    "outputId": "07b296b3-8f9a-4645-d47a-7330be228d21"
   },
   "outputs": [
    {
     "data": {
      "text/html": [
       "<div>\n",
       "<style scoped>\n",
       "    .dataframe tbody tr th:only-of-type {\n",
       "        vertical-align: middle;\n",
       "    }\n",
       "\n",
       "    .dataframe tbody tr th {\n",
       "        vertical-align: top;\n",
       "    }\n",
       "\n",
       "    .dataframe thead th {\n",
       "        text-align: right;\n",
       "    }\n",
       "</style>\n",
       "<table border=\"1\" class=\"dataframe\">\n",
       "  <thead>\n",
       "    <tr style=\"text-align: right;\">\n",
       "      <th></th>\n",
       "      <th>date</th>\n",
       "      <th>text</th>\n",
       "    </tr>\n",
       "  </thead>\n",
       "  <tbody>\n",
       "    <tr>\n",
       "      <th>0</th>\n",
       "      <td>2019-05-10 22:00:02</td>\n",
       "      <td>How eBay is leveraging #ArtificialIntelligence...</td>\n",
       "    </tr>\n",
       "    <tr>\n",
       "      <th>1</th>\n",
       "      <td>2019-05-10 21:58:42</td>\n",
       "      <td>Just arrived in my inbox how frickin awesome d...</td>\n",
       "    </tr>\n",
       "    <tr>\n",
       "      <th>2</th>\n",
       "      <td>2019-05-10 17:57:12</td>\n",
       "      <td>RT @2morrowknight: AMAZING: #ArtificialIntelli...</td>\n",
       "    </tr>\n",
       "    <tr>\n",
       "      <th>3</th>\n",
       "      <td>2019-05-10 17:41:23</td>\n",
       "      <td>Just part of the data Tzager processes in seco...</td>\n",
       "    </tr>\n",
       "    <tr>\n",
       "      <th>4</th>\n",
       "      <td>2019-05-10 16:46:38</td>\n",
       "      <td>RT @thalesgroup: The amazing train of the futu...</td>\n",
       "    </tr>\n",
       "  </tbody>\n",
       "</table>\n",
       "</div>"
      ],
      "text/plain": [
       "                 date                                               text\n",
       "0 2019-05-10 22:00:02  How eBay is leveraging #ArtificialIntelligence...\n",
       "1 2019-05-10 21:58:42  Just arrived in my inbox how frickin awesome d...\n",
       "2 2019-05-10 17:57:12  RT @2morrowknight: AMAZING: #ArtificialIntelli...\n",
       "3 2019-05-10 17:41:23  Just part of the data Tzager processes in seco...\n",
       "4 2019-05-10 16:46:38  RT @thalesgroup: The amazing train of the futu..."
      ]
     },
     "execution_count": 100,
     "metadata": {
      "tags": []
     },
     "output_type": "execute_result"
    }
   ],
   "source": [
    "tweet_df.head()"
   ]
  },
  {
   "cell_type": "markdown",
   "metadata": {
    "colab_type": "text",
    "id": "TrI9dsqCNv0w"
   },
   "source": [
    "**Zadanie:** Przygotuj listę tekstów z Twittera do późniejszej analizy. W tym celu należy wybrać kolumnę tekst i przekonwertować ją na listę przy użyciu funkcji `list(kolumna)` oraz przypisać do nowej zmiennej. Następnie korzystając z `list_comprehension` bądź `pętli for` należy przeprocesować każdy tekst, usuwając fragmenty, które odnoszą się do tego, że był retweetem. Przykładowo: `RT @thalesgroup:` Aby to zrobić warto skorzystać z funkcji `split(':')` i wybrać odpowiedni fragment stringa. Np: ```ab:cd.split(:)``` zwróci nam `['ab', 'cd']`. "
   ]
  },
  {
   "cell_type": "code",
   "execution_count": 0,
   "metadata": {
    "colab": {},
    "colab_type": "code",
    "id": "qOkt1zi-NsC4"
   },
   "outputs": [],
   "source": [
    "tweets_texts = list(tweet_df['text'])"
   ]
  },
  {
   "cell_type": "code",
   "execution_count": 0,
   "metadata": {
    "colab": {},
    "colab_type": "code",
    "id": "LAs9IhIwPR_p"
   },
   "outputs": [],
   "source": [
    "tweets_texts = [elem.split(':')[1] for elem in tweets_texts if ':' in elem]"
   ]
  },
  {
   "cell_type": "markdown",
   "metadata": {
    "colab_type": "text",
    "id": "cGSlNr3aPYPN"
   },
   "source": [
    "**Zadanie *:** Usunąć z tekstów również inne oznakowane konta. Tzn. wszystkie fragmenty, które zaczynają się od `@`."
   ]
  },
  {
   "cell_type": "code",
   "execution_count": 0,
   "metadata": {
    "colab": {},
    "colab_type": "code",
    "id": "Jp0G3UaTZLVw"
   },
   "outputs": [],
   "source": [
    "#tweets_texts = [elem for elem in tweets_texts if '@' not in elem]"
   ]
  },
  {
   "cell_type": "markdown",
   "metadata": {
    "colab_type": "text",
    "id": "5N5daWVuPnor"
   },
   "source": [
    "Aby dokonać analizy sentymentu określonych tekstów wykorzystamy bibilotekę textblob. https://textblob.readthedocs.io/ Najpierw możemy jednak spojrzeć na kilka przykładowych tweetów jaki mają sentyment w Google Cloud Natural Language Processing API. https://cloud.google.com/natural-language/"
   ]
  },
  {
   "cell_type": "code",
   "execution_count": 0,
   "metadata": {
    "colab": {},
    "colab_type": "code",
    "id": "TYez8tm1QKNU"
   },
   "outputs": [],
   "source": [
    "import random\n",
    "from textblob import TextBlob\n",
    "\n",
    "SEED=42\n",
    "random.seed(SEED)"
   ]
  },
  {
   "cell_type": "code",
   "execution_count": 0,
   "metadata": {
    "colab": {},
    "colab_type": "code",
    "id": "SkqAmiF5PVo4"
   },
   "outputs": [],
   "source": [
    "sample = random.sample(tweets_texts, 30)"
   ]
  },
  {
   "cell_type": "code",
   "execution_count": 0,
   "metadata": {
    "colab": {
     "base_uri": "https://localhost:8080/",
     "height": 1445
    },
    "colab_type": "code",
    "id": "gwea6iaIQI6a",
    "outputId": "bd612c67-10cb-437c-c8fb-673d6f547133"
   },
   "outputs": [
    {
     "name": "stdout",
     "output_type": "stream",
     "text": [
      " #Robotics is progressing at an amazing 🤯\n",
      "#AI #ML #ArtificialIntelligence #IoT #Technology By @Harvard @BostonDynamics @M…\n",
      "SENTIMENT: 0.6000000000000001\n",
      " @HPE_IN's Beena Ammanath takes stage at #HPEDiscoverMore.\n",
      "\n",
      "Her expertise on #ArtificialIntelligence very amazing. She'…\n",
      "SENTIMENT: 0.7800000000000001\n",
      " @HPE_IN's Beena Ammanath takes stage at #HPEDiscoverMore.\n",
      "\n",
      "Her expertise on #ArtificialIntelligence very amazing. She'…\n",
      "SENTIMENT: 0.7800000000000001\n",
      " Registrations now open for an amazing conference we organize on 13-14 June in Paris on\n",
      "SENTIMENT: 0.30000000000000004\n",
      "//t.co/oNAFQ8fyBc\n",
      "SENTIMENT: 0.0\n",
      " #SocialMediaMarketing THEN\n",
      "SENTIMENT: 0.0\n",
      " Why the #CyberSecurity Talent Shortage is the Greatest Threat #Businesses Face Today... via @TechNative https\n",
      "SENTIMENT: 1.0\n",
      "//t.co/oM8pHaCZsI ] #AI #AiJobs #ArtificialIntelligence  #Datascience #jobs #Hiring #Careers #LosAngeles #United States #BitCoin #ETH #crypto https\n",
      "SENTIMENT: 0.0\n",
      " 7 ways #AI is transforming #Healthcare &gt;&gt;&gt; @wef via @MikeQuindazzi &gt;&gt;&gt; #ArtificialIntelligence #IoT #FutureofWork #Machi…\n",
      "SENTIMENT: 0.0\n",
      " These rules could save humanity from the threat of rogue AI\n",
      "#ai #technology #artificialintelligence #tech #machinelearnin…\n",
      "SENTIMENT: 0.0\n",
      "//t.co/lkPXeGPbFL\n",
      "\n",
      "#IndustrialIoT #Robotics #DataScience #Marketing #RT\n",
      "\n",
      "Cc\n",
      "SENTIMENT: 0.0\n",
      " These rules could save humanity from the threat of rogue AI https\n",
      "SENTIMENT: 0.0\n",
      "//t.co/Z6xHhz8VFJ\n",
      "SENTIMENT: 0.0\n",
      "//t.co/NVTKmGRpgb  https\n",
      "SENTIMENT: 0.0\n",
      " AI WTF - AI focused events across the UK during 2019 to highlight the amazing things being created with \"AI\" tech &amp; how you can…\n",
      "SENTIMENT: 0.050000000000000044\n",
      "//t.co/I2PBBcOxsT\n",
      "#cybersecurity #ArtificialIntelligence\n",
      "SENTIMENT: 0.0\n",
      " If we don't give them, how will they take it?? 🤷\n",
      "\n",
      "It was an amazing meet up today, at AI Saturdays Abeokuta (second cohort)…\n",
      "SENTIMENT: 0.30000000000000004\n",
      " A #ArtificialIntelligence used to make #Art from ordinary MRI \n",
      "\n",
      "have a go yourself https\n",
      "SENTIMENT: -0.25\n",
      "//t.co/KPYPOoliqM\n",
      "SENTIMENT: 0.0\n",
      " Meet-us at @RSNA AI Spotlight course in Paris! \n",
      "We are here with our amazing partner @screenpointmed\n",
      "\n",
      "Come see us and l…\n",
      "SENTIMENT: 0.6000000000000001\n",
      " Ready, set, #ICLR2019. You won't want to miss the contributions being made by our team of amazing #research scientists\n",
      "SENTIMENT: 0.4\n",
      " 7 ways #AI is transforming #Healthcare &gt;&gt;&gt; @wef via @MikeQuindazzi &gt;&gt;&gt; #ArtificialIntelligence #IoT #FutureofWork #Machi…\n",
      "SENTIMENT: 0.0\n",
      "//t.co/G6rf9agTVC Try https\n",
      "SENTIMENT: 0.0\n",
      " Please Share/Tag someone who'd 💖 this &amp; maybe use it😱🤯anyone can do this no skill🔥💯\n",
      ".\n",
      "#artofvisuals #art #arts #ai #techy #ar…\n",
      "SENTIMENT: 0.0\n",
      " Registrations now open for an amazing conference we organize on 13-14 June in Paris on\n",
      "SENTIMENT: 0.30000000000000004\n",
      "//t.co/KCF19mKsoB\n",
      "SENTIMENT: 0.0\n",
      " As artificial intelligence technology advances it will be harder and harder to determine whether videos are real or fake. Amazi…\n",
      "SENTIMENT: -0.38749999999999996\n",
      " Scientists have made an #AI that they think is too dangerous to release\n",
      "by @DanRobitzski @wef\n",
      "\n",
      "Go to https\n",
      "SENTIMENT: -0.6\n",
      "//t.co/d52jWNKcvl\n",
      "SENTIMENT: 0.0\n",
      " Why the Cyber Security Talent Shortage is the Greatest Threat Businesses Face Today \n",
      "https\n",
      "SENTIMENT: 1.0\n"
     ]
    }
   ],
   "source": [
    "for tweet in sample:\n",
    "  tb = TextBlob(tweet)\n",
    "  print(tweet)\n",
    "  print('SENTIMENT: %s' % str(tb.sentiment.polarity))"
   ]
  },
  {
   "cell_type": "markdown",
   "metadata": {
    "colab_type": "text",
    "id": "YLhUyJSAQvM_"
   },
   "source": [
    "**Zadanie:** Dodaj kolumnę z sentymentem do dataframe'u z tweettami."
   ]
  },
  {
   "cell_type": "code",
   "execution_count": 0,
   "metadata": {
    "colab": {},
    "colab_type": "code",
    "id": "BQtZNRcQQN7a"
   },
   "outputs": [],
   "source": [
    "scores = []\n",
    "\n",
    "for tweet in tweets_texts:\n",
    "  tb = TextBlob(tweet)\n",
    "  scores.append(tb.sentiment.polarity)"
   ]
  },
  {
   "cell_type": "code",
   "execution_count": 0,
   "metadata": {
    "colab": {},
    "colab_type": "code",
    "id": "7hMIpSD0VhZw"
   },
   "outputs": [],
   "source": [
    "tweet_df['sentiment'] = pd.Series(scores)"
   ]
  },
  {
   "cell_type": "code",
   "execution_count": 0,
   "metadata": {
    "colab": {
     "base_uri": "https://localhost:8080/",
     "height": 204
    },
    "colab_type": "code",
    "id": "v4z0w1HiWTh1",
    "outputId": "04eda0c8-a6a2-46e7-d761-c12ec5fa666b"
   },
   "outputs": [
    {
     "data": {
      "text/html": [
       "<div>\n",
       "<style scoped>\n",
       "    .dataframe tbody tr th:only-of-type {\n",
       "        vertical-align: middle;\n",
       "    }\n",
       "\n",
       "    .dataframe tbody tr th {\n",
       "        vertical-align: top;\n",
       "    }\n",
       "\n",
       "    .dataframe thead th {\n",
       "        text-align: right;\n",
       "    }\n",
       "</style>\n",
       "<table border=\"1\" class=\"dataframe\">\n",
       "  <thead>\n",
       "    <tr style=\"text-align: right;\">\n",
       "      <th></th>\n",
       "      <th>date</th>\n",
       "      <th>text</th>\n",
       "      <th>sentiment</th>\n",
       "    </tr>\n",
       "  </thead>\n",
       "  <tbody>\n",
       "    <tr>\n",
       "      <th>0</th>\n",
       "      <td>2019-05-10 22:00:02</td>\n",
       "      <td>How eBay is leveraging #ArtificialIntelligence...</td>\n",
       "      <td>0.0</td>\n",
       "    </tr>\n",
       "    <tr>\n",
       "      <th>1</th>\n",
       "      <td>2019-05-10 21:58:42</td>\n",
       "      <td>Just arrived in my inbox how frickin awesome d...</td>\n",
       "      <td>0.0</td>\n",
       "    </tr>\n",
       "    <tr>\n",
       "      <th>2</th>\n",
       "      <td>2019-05-10 17:57:12</td>\n",
       "      <td>RT @2morrowknight: AMAZING: #ArtificialIntelli...</td>\n",
       "      <td>0.6</td>\n",
       "    </tr>\n",
       "    <tr>\n",
       "      <th>3</th>\n",
       "      <td>2019-05-10 17:41:23</td>\n",
       "      <td>Just part of the data Tzager processes in seco...</td>\n",
       "      <td>0.0</td>\n",
       "    </tr>\n",
       "    <tr>\n",
       "      <th>4</th>\n",
       "      <td>2019-05-10 16:46:38</td>\n",
       "      <td>RT @thalesgroup: The amazing train of the futu...</td>\n",
       "      <td>0.3</td>\n",
       "    </tr>\n",
       "  </tbody>\n",
       "</table>\n",
       "</div>"
      ],
      "text/plain": [
       "                 date                                               text  \\\n",
       "0 2019-05-10 22:00:02  How eBay is leveraging #ArtificialIntelligence...   \n",
       "1 2019-05-10 21:58:42  Just arrived in my inbox how frickin awesome d...   \n",
       "2 2019-05-10 17:57:12  RT @2morrowknight: AMAZING: #ArtificialIntelli...   \n",
       "3 2019-05-10 17:41:23  Just part of the data Tzager processes in seco...   \n",
       "4 2019-05-10 16:46:38  RT @thalesgroup: The amazing train of the futu...   \n",
       "\n",
       "   sentiment  \n",
       "0        0.0  \n",
       "1        0.0  \n",
       "2        0.6  \n",
       "3        0.0  \n",
       "4        0.3  "
      ]
     },
     "execution_count": 143,
     "metadata": {
      "tags": []
     },
     "output_type": "execute_result"
    }
   ],
   "source": [
    "tweet_df.head()"
   ]
  },
  {
   "cell_type": "markdown",
   "metadata": {
    "colab_type": "text",
    "id": "Ibm7TgB-RO5Y"
   },
   "source": [
    "**Zadanie:** Usuń wszystkie wiersze, w których sentyment == 0.0. Usuń duplikaty i wiersze z `NaN`."
   ]
  },
  {
   "cell_type": "code",
   "execution_count": 0,
   "metadata": {
    "colab": {
     "base_uri": "https://localhost:8080/",
     "height": 34
    },
    "colab_type": "code",
    "id": "FWRngyMwWZvx",
    "outputId": "e6f3b7b4-7851-4c4e-e3fd-a2cc9c67851b"
   },
   "outputs": [
    {
     "data": {
      "text/plain": [
       "(639, 3)"
      ]
     },
     "execution_count": 144,
     "metadata": {
      "tags": []
     },
     "output_type": "execute_result"
    }
   ],
   "source": [
    "tweet_df.shape"
   ]
  },
  {
   "cell_type": "code",
   "execution_count": 0,
   "metadata": {
    "colab": {},
    "colab_type": "code",
    "id": "Tgl40a01RXhx"
   },
   "outputs": [],
   "source": [
    "tweet_df = tweet_df[tweet_df['sentiment']!=0.0]"
   ]
  },
  {
   "cell_type": "code",
   "execution_count": 0,
   "metadata": {
    "colab": {
     "base_uri": "https://localhost:8080/",
     "height": 34
    },
    "colab_type": "code",
    "id": "W_R218BmWcVB",
    "outputId": "f1c2e00f-04bc-4ff0-e8de-8a1f6ba08a72"
   },
   "outputs": [
    {
     "data": {
      "text/plain": [
       "(346, 3)"
      ]
     },
     "execution_count": 146,
     "metadata": {
      "tags": []
     },
     "output_type": "execute_result"
    }
   ],
   "source": [
    "tweet_df.shape"
   ]
  },
  {
   "cell_type": "markdown",
   "metadata": {
    "colab_type": "text",
    "id": "FVzg_xe0RydU"
   },
   "source": [
    "**Zadanie:** Policz ile jest wierszy z pozytywnym i negatywnym sentymentem i jaki to odsetek wszystkich."
   ]
  },
  {
   "cell_type": "code",
   "execution_count": 0,
   "metadata": {
    "colab": {
     "base_uri": "https://localhost:8080/",
     "height": 34
    },
    "colab_type": "code",
    "id": "3EEzSfhYRuEY",
    "outputId": "c4570770-6cab-4740-c99c-a7e70b206bd2"
   },
   "outputs": [
    {
     "data": {
      "text/plain": [
       "(333, 3)"
      ]
     },
     "execution_count": 147,
     "metadata": {
      "tags": []
     },
     "output_type": "execute_result"
    }
   ],
   "source": [
    "tweet_df[tweet_df['sentiment'] > 0].shape"
   ]
  },
  {
   "cell_type": "code",
   "execution_count": 0,
   "metadata": {
    "colab": {
     "base_uri": "https://localhost:8080/",
     "height": 34
    },
    "colab_type": "code",
    "id": "PgnElOzbWucN",
    "outputId": "8d25e78b-b0ee-4fa7-b91d-80afe037f20c"
   },
   "outputs": [
    {
     "data": {
      "text/plain": [
       "(13, 3)"
      ]
     },
     "execution_count": 148,
     "metadata": {
      "tags": []
     },
     "output_type": "execute_result"
    }
   ],
   "source": [
    "tweet_df[tweet_df['sentiment'] < 0].shape"
   ]
  },
  {
   "cell_type": "code",
   "execution_count": 0,
   "metadata": {
    "colab": {
     "base_uri": "https://localhost:8080/",
     "height": 34
    },
    "colab_type": "code",
    "id": "cuJlFXe_Wwxx",
    "outputId": "9b432fa7-71cb-4e03-ecfb-b464e00116bd"
   },
   "outputs": [
    {
     "data": {
      "text/plain": [
       "96.24277456647398"
      ]
     },
     "execution_count": 149,
     "metadata": {
      "tags": []
     },
     "output_type": "execute_result"
    }
   ],
   "source": [
    "333/346*100"
   ]
  },
  {
   "cell_type": "code",
   "execution_count": 0,
   "metadata": {
    "colab": {
     "base_uri": "https://localhost:8080/",
     "height": 34
    },
    "colab_type": "code",
    "id": "z9BENaA2Wy5d",
    "outputId": "4e06561d-a14f-48f3-e015-1f6a6131c538"
   },
   "outputs": [
    {
     "data": {
      "text/plain": [
       "3.7572254335260116"
      ]
     },
     "execution_count": 150,
     "metadata": {
      "tags": []
     },
     "output_type": "execute_result"
    }
   ],
   "source": [
    "13/346*100"
   ]
  },
  {
   "cell_type": "markdown",
   "metadata": {
    "colab_type": "text",
    "id": "OxC3LBCjR7tJ"
   },
   "source": [
    "**Zadanie*:** Policz ile jest wierszy z sentymentem w określonych przedziałach. Wybierz dowolną granularność. Przydatna mogą być funkcje `groupby` oraz `cut` https://pandas.pydata.org/pandas-docs/version/0.23.4/generated/pandas.cut.html"
   ]
  },
  {
   "cell_type": "code",
   "execution_count": 0,
   "metadata": {
    "colab": {},
    "colab_type": "code",
    "id": "MjPOqamqYrOG"
   },
   "outputs": [],
   "source": [
    "import numpy as np"
   ]
  },
  {
   "cell_type": "code",
   "execution_count": 0,
   "metadata": {
    "colab": {
     "base_uri": "https://localhost:8080/",
     "height": 390
    },
    "colab_type": "code",
    "id": "iQICdmGlSDCm",
    "outputId": "20eac9c8-2a6a-4a60-cf8f-aef0125d25b1"
   },
   "outputs": [
    {
     "data": {
      "text/html": [
       "<div>\n",
       "<style scoped>\n",
       "    .dataframe tbody tr th:only-of-type {\n",
       "        vertical-align: middle;\n",
       "    }\n",
       "\n",
       "    .dataframe tbody tr th {\n",
       "        vertical-align: top;\n",
       "    }\n",
       "\n",
       "    .dataframe thead th {\n",
       "        text-align: right;\n",
       "    }\n",
       "</style>\n",
       "<table border=\"1\" class=\"dataframe\">\n",
       "  <thead>\n",
       "    <tr style=\"text-align: right;\">\n",
       "      <th></th>\n",
       "      <th>date</th>\n",
       "      <th>text</th>\n",
       "      <th>sentiment</th>\n",
       "    </tr>\n",
       "    <tr>\n",
       "      <th>sentiment</th>\n",
       "      <th></th>\n",
       "      <th></th>\n",
       "      <th></th>\n",
       "    </tr>\n",
       "  </thead>\n",
       "  <tbody>\n",
       "    <tr>\n",
       "      <th>(-1.0, -0.8]</th>\n",
       "      <td>0</td>\n",
       "      <td>0</td>\n",
       "      <td>0</td>\n",
       "    </tr>\n",
       "    <tr>\n",
       "      <th>(-0.8, -0.6]</th>\n",
       "      <td>0</td>\n",
       "      <td>0</td>\n",
       "      <td>0</td>\n",
       "    </tr>\n",
       "    <tr>\n",
       "      <th>(-0.6, -0.4]</th>\n",
       "      <td>2</td>\n",
       "      <td>2</td>\n",
       "      <td>2</td>\n",
       "    </tr>\n",
       "    <tr>\n",
       "      <th>(-0.4, -0.2]</th>\n",
       "      <td>8</td>\n",
       "      <td>8</td>\n",
       "      <td>8</td>\n",
       "    </tr>\n",
       "    <tr>\n",
       "      <th>(-0.2, -2.22e-16]</th>\n",
       "      <td>3</td>\n",
       "      <td>3</td>\n",
       "      <td>3</td>\n",
       "    </tr>\n",
       "    <tr>\n",
       "      <th>(-2.22e-16, 0.2]</th>\n",
       "      <td>56</td>\n",
       "      <td>56</td>\n",
       "      <td>56</td>\n",
       "    </tr>\n",
       "    <tr>\n",
       "      <th>(0.2, 0.4]</th>\n",
       "      <td>64</td>\n",
       "      <td>64</td>\n",
       "      <td>64</td>\n",
       "    </tr>\n",
       "    <tr>\n",
       "      <th>(0.4, 0.6]</th>\n",
       "      <td>36</td>\n",
       "      <td>36</td>\n",
       "      <td>36</td>\n",
       "    </tr>\n",
       "    <tr>\n",
       "      <th>(0.6, 0.8]</th>\n",
       "      <td>176</td>\n",
       "      <td>176</td>\n",
       "      <td>176</td>\n",
       "    </tr>\n",
       "    <tr>\n",
       "      <th>(0.8, 1.0]</th>\n",
       "      <td>1</td>\n",
       "      <td>1</td>\n",
       "      <td>1</td>\n",
       "    </tr>\n",
       "  </tbody>\n",
       "</table>\n",
       "</div>"
      ],
      "text/plain": [
       "                   date  text  sentiment\n",
       "sentiment                               \n",
       "(-1.0, -0.8]          0     0          0\n",
       "(-0.8, -0.6]          0     0          0\n",
       "(-0.6, -0.4]          2     2          2\n",
       "(-0.4, -0.2]          8     8          8\n",
       "(-0.2, -2.22e-16]     3     3          3\n",
       "(-2.22e-16, 0.2]     56    56         56\n",
       "(0.2, 0.4]           64    64         64\n",
       "(0.4, 0.6]           36    36         36\n",
       "(0.6, 0.8]          176   176        176\n",
       "(0.8, 1.0]            1     1          1"
      ]
     },
     "execution_count": 152,
     "metadata": {
      "tags": []
     },
     "output_type": "execute_result"
    }
   ],
   "source": [
    "tweet_df.groupby(pd.cut(tweet_df['sentiment'], np.arange(-1, 1+0.2, 0.2))).count()"
   ]
  },
  {
   "cell_type": "markdown",
   "metadata": {
    "colab_type": "text",
    "id": "3l34PQcLSY2P"
   },
   "source": [
    "## Część 4 - Wprowadzenie do wizualizacji danych przy użyciu pandas i matplotlib."
   ]
  },
  {
   "cell_type": "code",
   "execution_count": 0,
   "metadata": {
    "colab": {
     "base_uri": "https://localhost:8080/",
     "height": 204
    },
    "colab_type": "code",
    "id": "UI5raHa-SdVL",
    "outputId": "e19b559a-a3c4-44e8-b7e3-496c25718862"
   },
   "outputs": [
    {
     "data": {
      "text/html": [
       "<div>\n",
       "<style scoped>\n",
       "    .dataframe tbody tr th:only-of-type {\n",
       "        vertical-align: middle;\n",
       "    }\n",
       "\n",
       "    .dataframe tbody tr th {\n",
       "        vertical-align: top;\n",
       "    }\n",
       "\n",
       "    .dataframe thead th {\n",
       "        text-align: right;\n",
       "    }\n",
       "</style>\n",
       "<table border=\"1\" class=\"dataframe\">\n",
       "  <thead>\n",
       "    <tr style=\"text-align: right;\">\n",
       "      <th></th>\n",
       "      <th>star_rating</th>\n",
       "      <th>title</th>\n",
       "      <th>content_rating</th>\n",
       "      <th>genre</th>\n",
       "      <th>duration</th>\n",
       "      <th>actors_list</th>\n",
       "    </tr>\n",
       "  </thead>\n",
       "  <tbody>\n",
       "    <tr>\n",
       "      <th>0</th>\n",
       "      <td>9.3</td>\n",
       "      <td>The Shawshank Redemption</td>\n",
       "      <td>R</td>\n",
       "      <td>Crime</td>\n",
       "      <td>142</td>\n",
       "      <td>[u'Tim Robbins'; u'Morgan Freeman'; u'Bob Gunt...</td>\n",
       "    </tr>\n",
       "    <tr>\n",
       "      <th>1</th>\n",
       "      <td>9.2</td>\n",
       "      <td>The Godfather</td>\n",
       "      <td>R</td>\n",
       "      <td>Crime</td>\n",
       "      <td>175</td>\n",
       "      <td>[u'Marlon Brando'; u'Al Pacino'; u'James Caan']</td>\n",
       "    </tr>\n",
       "    <tr>\n",
       "      <th>2</th>\n",
       "      <td>9.1</td>\n",
       "      <td>The Godfather: Part II</td>\n",
       "      <td>R</td>\n",
       "      <td>Crime</td>\n",
       "      <td>200</td>\n",
       "      <td>[u'Al Pacino'; u'Robert De Niro'; u'Robert Duv...</td>\n",
       "    </tr>\n",
       "    <tr>\n",
       "      <th>3</th>\n",
       "      <td>9.0</td>\n",
       "      <td>The Dark Knight</td>\n",
       "      <td>PG-13</td>\n",
       "      <td>Action</td>\n",
       "      <td>152</td>\n",
       "      <td>[u'Christian Bale'; u'Heath Ledger'; u'Aaron E...</td>\n",
       "    </tr>\n",
       "    <tr>\n",
       "      <th>4</th>\n",
       "      <td>8.9</td>\n",
       "      <td>Pulp Fiction</td>\n",
       "      <td>R</td>\n",
       "      <td>Crime</td>\n",
       "      <td>154</td>\n",
       "      <td>[u'John Travolta'; u'Uma Thurman'; u'Samuel L....</td>\n",
       "    </tr>\n",
       "  </tbody>\n",
       "</table>\n",
       "</div>"
      ],
      "text/plain": [
       "   star_rating                     title content_rating   genre  duration  \\\n",
       "0          9.3  The Shawshank Redemption              R   Crime       142   \n",
       "1          9.2             The Godfather              R   Crime       175   \n",
       "2          9.1    The Godfather: Part II              R   Crime       200   \n",
       "3          9.0           The Dark Knight          PG-13  Action       152   \n",
       "4          8.9              Pulp Fiction              R   Crime       154   \n",
       "\n",
       "                                         actors_list  \n",
       "0  [u'Tim Robbins'; u'Morgan Freeman'; u'Bob Gunt...  \n",
       "1    [u'Marlon Brando'; u'Al Pacino'; u'James Caan']  \n",
       "2  [u'Al Pacino'; u'Robert De Niro'; u'Robert Duv...  \n",
       "3  [u'Christian Bale'; u'Heath Ledger'; u'Aaron E...  \n",
       "4  [u'John Travolta'; u'Uma Thurman'; u'Samuel L....  "
      ]
     },
     "execution_count": 118,
     "metadata": {
      "tags": []
     },
     "output_type": "execute_result"
    }
   ],
   "source": [
    "imdb.head()"
   ]
  },
  {
   "cell_type": "code",
   "execution_count": 0,
   "metadata": {
    "colab": {
     "base_uri": "https://localhost:8080/",
     "height": 142
    },
    "colab_type": "code",
    "id": "zVoJVBvaS7Ow",
    "outputId": "8a233cdf-19a3-42a5-ba86-d3f1f61a1cd9"
   },
   "outputs": [
    {
     "data": {
      "text/html": [
       "<div>\n",
       "<style scoped>\n",
       "    .dataframe tbody tr th:only-of-type {\n",
       "        vertical-align: middle;\n",
       "    }\n",
       "\n",
       "    .dataframe tbody tr th {\n",
       "        vertical-align: top;\n",
       "    }\n",
       "\n",
       "    .dataframe thead th {\n",
       "        text-align: right;\n",
       "    }\n",
       "</style>\n",
       "<table border=\"1\" class=\"dataframe\">\n",
       "  <thead>\n",
       "    <tr style=\"text-align: right;\">\n",
       "      <th></th>\n",
       "      <th>oranges</th>\n",
       "      <th>bananas</th>\n",
       "      <th>apples</th>\n",
       "    </tr>\n",
       "  </thead>\n",
       "  <tbody>\n",
       "    <tr>\n",
       "      <th>Anna</th>\n",
       "      <td>0</td>\n",
       "      <td>1</td>\n",
       "      <td>3</td>\n",
       "    </tr>\n",
       "    <tr>\n",
       "      <th>Barbara</th>\n",
       "      <td>3</td>\n",
       "      <td>0</td>\n",
       "      <td>0</td>\n",
       "    </tr>\n",
       "    <tr>\n",
       "      <th>Daniela</th>\n",
       "      <td>2</td>\n",
       "      <td>4</td>\n",
       "      <td>2</td>\n",
       "    </tr>\n",
       "  </tbody>\n",
       "</table>\n",
       "</div>"
      ],
      "text/plain": [
       "         oranges  bananas  apples\n",
       "Anna           0        1       3\n",
       "Barbara        3        0       0\n",
       "Daniela        2        4       2"
      ]
     },
     "execution_count": 121,
     "metadata": {
      "tags": []
     },
     "output_type": "execute_result"
    }
   ],
   "source": [
    "df"
   ]
  },
  {
   "cell_type": "code",
   "execution_count": 0,
   "metadata": {
    "colab": {},
    "colab_type": "code",
    "id": "IoheQgI_SwqJ"
   },
   "outputs": [],
   "source": [
    "import matplotlib.pyplot as plt"
   ]
  },
  {
   "cell_type": "code",
   "execution_count": 0,
   "metadata": {
    "colab": {
     "base_uri": "https://localhost:8080/",
     "height": 286
    },
    "colab_type": "code",
    "id": "4bmiCNICS0qB",
    "outputId": "08178400-114a-482a-afac-7e4d3ea0e92d"
   },
   "outputs": [
    {
     "data": {
      "text/plain": [
       "<matplotlib.axes._subplots.AxesSubplot at 0x7f1ee0c54080>"
      ]
     },
     "execution_count": 120,
     "metadata": {
      "tags": []
     },
     "output_type": "execute_result"
    },
    {
     "data": {
      "image/png": "[encoded data removed]",
      "text/plain": [
       "<Figure size 432x288 with 1 Axes>"
      ]
     },
     "metadata": {
      "tags": []
     },
     "output_type": "display_data"
    }
   ],
   "source": [
    "imdb['duration'].plot(kind='hist')"
   ]
  },
  {
   "cell_type": "code",
   "execution_count": 0,
   "metadata": {
    "colab": {
     "base_uri": "https://localhost:8080/",
     "height": 328
    },
    "colab_type": "code",
    "id": "fJcWjNvwS2vB",
    "outputId": "74f961e8-4628-4ad0-e359-91d4794a7b04"
   },
   "outputs": [
    {
     "data": {
      "text/plain": [
       "<matplotlib.axes._subplots.AxesSubplot at 0x7f1ee0e9edd8>"
      ]
     },
     "execution_count": 133,
     "metadata": {
      "tags": []
     },
     "output_type": "execute_result"
    },
    {
     "data": {
      "image/png": "[encoded data removed]",
      "text/plain": [
       "<Figure size 432x288 with 1 Axes>"
      ]
     },
     "metadata": {
      "tags": []
     },
     "output_type": "display_data"
    }
   ],
   "source": [
    "df.plot.bar(stacked=True, title='Barplot')"
   ]
  },
  {
   "cell_type": "code",
   "execution_count": 0,
   "metadata": {
    "colab": {},
    "colab_type": "code",
    "id": "byifor07S9A4"
   },
   "outputs": [],
   "source": [
    "df2 = pd.DataFrame({'a': np.random.randn(1000) + 1, 'b': np.random.randn(1000),\n",
    "                    'c': np.random.randn(1000) - 1}, columns=['a', 'b', 'c'])"
   ]
  },
  {
   "cell_type": "code",
   "execution_count": 0,
   "metadata": {
    "colab": {
     "base_uri": "https://localhost:8080/",
     "height": 204
    },
    "colab_type": "code",
    "id": "_KzH4HLTTAYv",
    "outputId": "76e23252-de3e-4000-dae6-51d4bf7cffed"
   },
   "outputs": [
    {
     "data": {
      "text/html": [
       "<div>\n",
       "<style scoped>\n",
       "    .dataframe tbody tr th:only-of-type {\n",
       "        vertical-align: middle;\n",
       "    }\n",
       "\n",
       "    .dataframe tbody tr th {\n",
       "        vertical-align: top;\n",
       "    }\n",
       "\n",
       "    .dataframe thead th {\n",
       "        text-align: right;\n",
       "    }\n",
       "</style>\n",
       "<table border=\"1\" class=\"dataframe\">\n",
       "  <thead>\n",
       "    <tr style=\"text-align: right;\">\n",
       "      <th></th>\n",
       "      <th>a</th>\n",
       "      <th>b</th>\n",
       "      <th>c</th>\n",
       "    </tr>\n",
       "  </thead>\n",
       "  <tbody>\n",
       "    <tr>\n",
       "      <th>0</th>\n",
       "      <td>0.120424</td>\n",
       "      <td>-0.786256</td>\n",
       "      <td>-1.590579</td>\n",
       "    </tr>\n",
       "    <tr>\n",
       "      <th>1</th>\n",
       "      <td>1.842876</td>\n",
       "      <td>-0.471767</td>\n",
       "      <td>-1.347554</td>\n",
       "    </tr>\n",
       "    <tr>\n",
       "      <th>2</th>\n",
       "      <td>1.385161</td>\n",
       "      <td>0.022153</td>\n",
       "      <td>-0.837437</td>\n",
       "    </tr>\n",
       "    <tr>\n",
       "      <th>3</th>\n",
       "      <td>2.410094</td>\n",
       "      <td>2.116328</td>\n",
       "      <td>-0.500523</td>\n",
       "    </tr>\n",
       "    <tr>\n",
       "      <th>4</th>\n",
       "      <td>1.283128</td>\n",
       "      <td>0.085119</td>\n",
       "      <td>-1.060110</td>\n",
       "    </tr>\n",
       "  </tbody>\n",
       "</table>\n",
       "</div>"
      ],
      "text/plain": [
       "          a         b         c\n",
       "0  0.120424 -0.786256 -1.590579\n",
       "1  1.842876 -0.471767 -1.347554\n",
       "2  1.385161  0.022153 -0.837437\n",
       "3  2.410094  2.116328 -0.500523\n",
       "4  1.283128  0.085119 -1.060110"
      ]
     },
     "execution_count": 124,
     "metadata": {
      "tags": []
     },
     "output_type": "execute_result"
    }
   ],
   "source": [
    "df2.head()"
   ]
  },
  {
   "cell_type": "code",
   "execution_count": 0,
   "metadata": {
    "colab": {
     "base_uri": "https://localhost:8080/",
     "height": 286
    },
    "colab_type": "code",
    "id": "C1pFeq02TBYn",
    "outputId": "55c46173-9e59-4d01-aab7-55fa68abf58d"
   },
   "outputs": [
    {
     "data": {
      "text/plain": [
       "<matplotlib.axes._subplots.AxesSubplot at 0x7f1ee0ceea58>"
      ]
     },
     "execution_count": 125,
     "metadata": {
      "tags": []
     },
     "output_type": "execute_result"
    },
    {
     "data": {
      "image/png": "[encoded data removed]",
      "text/plain": [
       "<Figure size 432x288 with 1 Axes>"
      ]
     },
     "metadata": {
      "tags": []
     },
     "output_type": "display_data"
    }
   ],
   "source": [
    "df2.plot.hist(alpha=0.5, bins=20)"
   ]
  },
  {
   "cell_type": "code",
   "execution_count": 0,
   "metadata": {
    "colab": {
     "base_uri": "https://localhost:8080/",
     "height": 366
    },
    "colab_type": "code",
    "id": "IOHrq6pOTG6X",
    "outputId": "5ffa6acf-3375-4bbc-c231-cef8fc2bcfd1"
   },
   "outputs": [
    {
     "data": {
      "text/plain": [
       "array([[<matplotlib.axes._subplots.AxesSubplot object at 0x7f1ee0c4dd30>,\n",
       "        <matplotlib.axes._subplots.AxesSubplot object at 0x7f1ee0d09828>],\n",
       "       [<matplotlib.axes._subplots.AxesSubplot object at 0x7f1ee0cf4be0>,\n",
       "        <matplotlib.axes._subplots.AxesSubplot object at 0x7f1ee0d5ff98>]],\n",
       "      dtype=object)"
      ]
     },
     "execution_count": 126,
     "metadata": {
      "tags": []
     },
     "output_type": "execute_result"
    },
    {
     "data": {
      "image/png": "[encoded data removed]",
      "text/plain": [
       "<Figure size 432x288 with 4 Axes>"
      ]
     },
     "metadata": {
      "tags": []
     },
     "output_type": "display_data"
    }
   ],
   "source": [
    "df2.hist()"
   ]
  },
  {
   "cell_type": "code",
   "execution_count": 0,
   "metadata": {
    "colab": {
     "base_uri": "https://localhost:8080/",
     "height": 281
    },
    "colab_type": "code",
    "id": "awr831sRTKo3",
    "outputId": "f15d5d3f-867f-41f7-c354-d328910d5783"
   },
   "outputs": [
    {
     "data": {
      "image/png": "[encoded data removed]",
      "text/plain": [
       "<Figure size 432x288 with 4 Axes>"
      ]
     },
     "metadata": {
      "tags": []
     },
     "output_type": "display_data"
    }
   ],
   "source": [
    "_ = df2.hist()"
   ]
  },
  {
   "cell_type": "markdown",
   "metadata": {
    "colab_type": "text",
    "id": "9VUdPTK2TbRH"
   },
   "source": [
    "**Zadanie:** Korzystając ze zbioru imdb narysuj histogram rozkładu ratingów."
   ]
  },
  {
   "cell_type": "code",
   "execution_count": 0,
   "metadata": {
    "colab": {
     "base_uri": "https://localhost:8080/",
     "height": 269
    },
    "colab_type": "code",
    "id": "Sf-kixxKTMhH",
    "outputId": "c01891ad-e0a7-4688-f861-002f83fe0f6f"
   },
   "outputs": [
    {
     "data": {
      "image/png": "[encoded data removed]",
      "text/plain": [
       "<Figure size 432x288 with 1 Axes>"
      ]
     },
     "metadata": {
      "tags": []
     },
     "output_type": "display_data"
    }
   ],
   "source": [
    "_ = imdb['star_rating'].plot(kind='hist', bins=10)"
   ]
  },
  {
   "cell_type": "markdown",
   "metadata": {
    "colab_type": "text",
    "id": "YirTQjY-T8Vr"
   },
   "source": [
    "**Zadanie:** Policz ile jest filmów jakiego gatunku. Narysuj bar plot."
   ]
  },
  {
   "cell_type": "code",
   "execution_count": 0,
   "metadata": {
    "colab": {},
    "colab_type": "code",
    "id": "7VB1gRqGTuLW"
   },
   "outputs": [],
   "source": [
    "imdb_by_genre = imdb.groupby(['genre'])"
   ]
  },
  {
   "cell_type": "code",
   "execution_count": 0,
   "metadata": {
    "colab": {},
    "colab_type": "code",
    "id": "23a8sfdQUgTL"
   },
   "outputs": [],
   "source": [
    "genres = imdb_by_genre.count()['title']"
   ]
  },
  {
   "cell_type": "code",
   "execution_count": 0,
   "metadata": {
    "colab": {
     "base_uri": "https://localhost:8080/",
     "height": 283
    },
    "colab_type": "code",
    "id": "CVvXN2E9UiKb",
    "outputId": "e480943a-a0c2-4d92-8e32-eab87f51ed80"
   },
   "outputs": [
    {
     "data": {
      "image/png": "[encoded data removed]",
      "text/plain": [
       "<Figure size 432x288 with 1 Axes>"
      ]
     },
     "metadata": {
      "tags": []
     },
     "output_type": "display_data"
    }
   ],
   "source": [
    "_ = genres.plot()"
   ]
  },
  {
   "cell_type": "code",
   "execution_count": 0,
   "metadata": {
    "colab": {
     "base_uri": "https://localhost:8080/",
     "height": 325
    },
    "colab_type": "code",
    "id": "WoMUw9v6Ur-K",
    "outputId": "82ca626c-ac31-45f0-e549-e46023526dda"
   },
   "outputs": [
    {
     "data": {
      "image/png": "[encoded data removed]",
      "text/plain": [
       "<Figure size 432x288 with 1 Axes>"
      ]
     },
     "metadata": {
      "tags": []
     },
     "output_type": "display_data"
    }
   ],
   "source": [
    "_ = genres.plot(kind='bar')"
   ]
  },
  {
   "cell_type": "markdown",
   "metadata": {
    "colab_type": "text",
    "id": "CjAlnSPzU-El"
   },
   "source": [
    "## Część 5 - Wprowadzenie do biblioteki spacy\n",
    "\n",
    "Spacy jest to powszechnie używana biblioteka do przetwarzania i analizy tekstu. "
   ]
  },
  {
   "cell_type": "code",
   "execution_count": 0,
   "metadata": {
    "colab": {},
    "colab_type": "code",
    "id": "fiMQsrrEU4RJ"
   },
   "outputs": [],
   "source": [
    "import spacy"
   ]
  },
  {
   "cell_type": "code",
   "execution_count": 0,
   "metadata": {
    "colab": {
     "base_uri": "https://localhost:8080/",
     "height": 204
    },
    "colab_type": "code",
    "id": "cuOdh2sQaR1o",
    "outputId": "56ea79a9-7426-4e19-b98f-6085f21d45d4"
   },
   "outputs": [
    {
     "name": "stdout",
     "output_type": "stream",
     "text": [
      "Apple PROPN\n",
      "is VERB\n",
      "looking VERB\n",
      "at ADP\n",
      "buying VERB\n",
      "U.K. PROPN\n",
      "startup NOUN\n",
      "for ADP\n",
      "$ SYM\n",
      "1 NUM\n",
      "billion NUM\n"
     ]
    }
   ],
   "source": [
    "nlp = spacy.load(\"en_core_web_sm\")\n",
    "doc = nlp(u\"Apple is looking at buying U.K. startup for $1 billion\")\n",
    "for token in doc:\n",
    "    print(token.text, token.pos_)"
   ]
  },
  {
   "cell_type": "code",
   "execution_count": 0,
   "metadata": {
    "colab": {
     "base_uri": "https://localhost:8080/",
     "height": 68
    },
    "colab_type": "code",
    "id": "2yl3RAQgaTun",
    "outputId": "2c20d995-b1f8-4a1c-f6e9-03bdedebfbe8"
   },
   "outputs": [
    {
     "name": "stdout",
     "output_type": "stream",
     "text": [
      "Apple 0 5 ORG\n",
      "U.K. 27 31 GPE\n",
      "$1 billion 44 54 MONEY\n"
     ]
    }
   ],
   "source": [
    "for ent in doc.ents:\n",
    "    print(ent.text, ent.start_char, ent.end_char, ent.label_)"
   ]
  },
  {
   "cell_type": "code",
   "execution_count": 0,
   "metadata": {
    "colab": {
     "base_uri": "https://localhost:8080/",
     "height": 204
    },
    "colab_type": "code",
    "id": "OX9YVHeIaWav",
    "outputId": "8787c0e9-e87b-4781-d361-bc46ced68333"
   },
   "outputs": [
    {
     "name": "stdout",
     "output_type": "stream",
     "text": [
      "Apple apple True False\n",
      "is be True True\n",
      "looking look True False\n",
      "at at True True\n",
      "buying buy True False\n",
      "U.K. u.k. False False\n",
      "startup startup True False\n",
      "for for True True\n",
      "$ $ False False\n",
      "1 1 False False\n",
      "billion billion True False\n"
     ]
    }
   ],
   "source": [
    "for token in doc:\n",
    "    print(token.text, token.lemma_, token.is_alpha, token.is_stop)"
   ]
  },
  {
   "cell_type": "markdown",
   "metadata": {
    "colab_type": "text",
    "id": "WlUwZuX-aZej"
   },
   "source": [
    "**Zadanie:** Pobierz próbkę tweetów z naszego zbioru danych. Przeanalizuj je przy pomocy spacy'ego. Czy są jakieś rzeczy, które dostrzegasz, że warto byłoby poprawić jeżeli chodzi o jakość danych?"
   ]
  },
  {
   "cell_type": "markdown",
   "metadata": {
    "colab_type": "text",
    "id": "n7PRDv9laqTA"
   },
   "source": [
    "**Dziękuję i do jutra!**\n",
    "\n"
   ]
  }
 ],
 "metadata": {
  "colab": {
   "name": "solutions_carrots_workshop_part1.ipynb",
   "provenance": [],
   "version": "0.3.2"
  },
  "kernelspec": {
   "display_name": "Python 3",
   "language": "python",
   "name": "python3"
  },
  "language_info": {
   "codemirror_mode": {
    "name": "ipython",
    "version": 3
   },
   "file_extension": ".py",
   "mimetype": "text/x-python",
   "name": "python",
   "nbconvert_exporter": "python",
   "pygments_lexer": "ipython3",
   "version": "3.6.2"
  }
 },
 "nbformat": 4,
 "nbformat_minor": 1
}
